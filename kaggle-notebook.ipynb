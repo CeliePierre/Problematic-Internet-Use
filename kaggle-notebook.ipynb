{
 "cells": [
  {
   "cell_type": "markdown",
   "id": "651e83a4",
   "metadata": {
    "papermill": {
     "duration": 0.016524,
     "end_time": "2024-11-13T01:17:26.534731",
     "exception": false,
     "start_time": "2024-11-13T01:17:26.518207",
     "status": "completed"
    },
    "tags": []
   },
   "source": [
    "# Child Mind Institute — Problematic Internet Use\n",
    "\n",
    "## Team notes & log\n",
    "\n",
    "🔔 <b>REMINDER:</b> Make sure to use GitHub pull before starting work and push when finishing.\n",
    "\n",
    "<u><b>To Do</b></u>\n",
    "\n",
    "- Feature engineering\n",
    "- Include parque data\n",
    "- CP: Start training the model (Random Forest).\n",
    "- AG: Visualization\n",
    "\n",
    "<u><b>Worklog</b></u>\n",
    "\n",
    "- CP 11/3: Cleaned up some repetitve sections.\n",
    "- CP 11/5: Merged notebooks with AG & CP's work.\n",
    "- AG 11/7: Drop unnecessary columns. Dropped a few of them.\n",
    "- CP 11/11: Filled missing values using KNN, started training the model using Random Forest, calculated scores.\n",
    "- CP 11/17: Fixed submission error. Result: 0.\n",
    "- CP 11/17: Imported parquet data.\n",
    "\n",
    "<u><b>Submissions and Results</b></u>\n",
    "\n",
    "- CP 11/17: Random Forest test submission: 0\n"
   ]
  },
  {
   "cell_type": "markdown",
   "id": "6b230b20",
   "metadata": {
    "papermill": {
     "duration": 0.016502,
     "end_time": "2024-11-13T01:17:26.567157",
     "exception": false,
     "start_time": "2024-11-13T01:17:26.550655",
     "status": "completed"
    },
    "tags": []
   },
   "source": [
    "## Preprocessing\n"
   ]
  },
  {
   "cell_type": "markdown",
   "id": "2935e30a",
   "metadata": {},
   "source": [
    "### CSV Data\n"
   ]
  },
  {
   "cell_type": "code",
   "execution_count": null,
   "id": "85bbd8f6",
   "metadata": {
    "execution": {
     "iopub.execute_input": "2024-11-13T01:17:26.601055Z",
     "iopub.status.busy": "2024-11-13T01:17:26.600456Z",
     "iopub.status.idle": "2024-11-13T01:17:30.216204Z",
     "shell.execute_reply": "2024-11-13T01:17:30.214909Z"
    },
    "papermill": {
     "duration": 3.636418,
     "end_time": "2024-11-13T01:17:30.219237",
     "exception": false,
     "start_time": "2024-11-13T01:17:26.582819",
     "status": "completed"
    },
    "tags": []
   },
   "outputs": [],
   "source": [
    "# Import libraries\n",
    "\n",
    "# CP\n",
    "import numpy as np\n",
    "import pandas as pd\n",
    "from concurrent.futures import ThreadPoolExecutor\n",
    "import os\n",
    "from tqdm import tqdm\n",
    "\n",
    "#### AG 11/2/24 ###\n",
    "import matplotlib.pyplot as plt\n",
    "import seaborn as sns\n",
    "from sklearn.model_selection import train_test_split\n",
    "from sklearn.ensemble import RandomForestClassifier\n",
    "from sklearn.metrics import classification_report, confusion_matrix\n",
    "from sklearn.preprocessing import StandardScaler\n",
    "from sklearn.decomposition import PCA"
   ]
  },
  {
   "cell_type": "code",
   "execution_count": null,
   "id": "3fc630be",
   "metadata": {},
   "outputs": [],
   "source": [
    "# CP: The following code is from Kaggle notebook:\n",
    "# https://www.kaggle.com/code/cchangyyy/0-490-notebook\n",
    "\n",
    "# Processes a parquet file\n",
    "\n",
    "\n",
    "def process_file(filename, dirname):\n",
    "    df = pd.read_parquet(os.path.join(dirname, filename, \"part-0.parquet\"))\n",
    "    df.drop(\"step\", axis=1, inplace=True)\n",
    "    return df.describe().values.reshape(-1), filename.split(\"=\")[1]\n",
    "\n",
    "\n",
    "def load_time_series(dirname) -> pd.DataFrame:\n",
    "    ids = os.listdir(dirname)\n",
    "\n",
    "    with ThreadPoolExecutor() as executor:\n",
    "        results = list(\n",
    "            tqdm(\n",
    "                executor.map(lambda fname: process_file(fname, dirname), ids),\n",
    "                total=len(ids),\n",
    "            )\n",
    "        )\n",
    "\n",
    "    stats, indexes = zip(*results)\n",
    "\n",
    "    df = pd.DataFrame(stats, columns=[f\"stat_{i}\" for i in range(len(stats[0]))])\n",
    "    df[\"id\"] = indexes\n",
    "    return df"
   ]
  },
  {
   "cell_type": "code",
   "execution_count": null,
   "id": "75b2af19",
   "metadata": {
    "execution": {
     "iopub.execute_input": "2024-11-13T01:17:30.253129Z",
     "iopub.status.busy": "2024-11-13T01:17:30.252495Z",
     "iopub.status.idle": "2024-11-13T01:17:30.436035Z",
     "shell.execute_reply": "2024-11-13T01:17:30.434965Z"
    },
    "papermill": {
     "duration": 0.206349,
     "end_time": "2024-11-13T01:17:30.441300",
     "exception": false,
     "start_time": "2024-11-13T01:17:30.234951",
     "status": "completed"
    },
    "tags": []
   },
   "outputs": [],
   "source": [
    "# CP: Load data\n",
    "# CP: Check if you are running in Kaggle or locally\n",
    "# CP: Running locally\n",
    "if os.path.exists(\"kaggle_data\"):\n",
    "    train = pd.read_csv(\"kaggle_data/train.csv\")\n",
    "    test = pd.read_csv(\"kaggle_data/test.csv\")\n",
    "    data_dict = pd.read_csv(\"kaggle_data/data_dictionary.csv\")\n",
    "    train_ts = load_time_series(\"kaggle_data/series_train.parquet\")\n",
    "    test_ts = load_time_series(\"kaggle_data/series_test.parquet\")\n",
    "\n",
    "# CP: Running in Kaggle\n",
    "else:\n",
    "    train = pd.read_csv(\n",
    "        \"/kaggle/input/child-mind-institute-problematic-internet-use/train.csv\"\n",
    "    )\n",
    "    test = pd.read_csv(\n",
    "        \"/kaggle/input/child-mind-institute-problematic-internet-use/test.csv\"\n",
    "    )\n",
    "    data_dict = pd.read_csv(\n",
    "        \"/kaggle/input/child-mind-institute-problematic-internet-use/data_dictionary.csv\"\n",
    "    )\n",
    "    train_ts = load_time_series(\n",
    "        \"/kaggle/input/child-mind-institute-problematic-internet-use/series_train.parquet\"\n",
    "    )\n",
    "    test_ts = load_time_series(\n",
    "        \"/kaggle/input/child-mind-institute-problematic-internet-use/series_test.parquet\"\n",
    "    )\n",
    "\n",
    "# CP: Show all rows when displaying data\n",
    "pd.set_option(\"display.max_rows\", None)\n",
    "\n",
    "# CP: Display data dictionary\n",
    "data_dict"
   ]
  },
  {
   "cell_type": "code",
   "execution_count": null,
   "id": "51b9b4fa",
   "metadata": {},
   "outputs": [],
   "source": [
    "# CP: The following code is from Kaggle notebook:\n",
    "# https://www.kaggle.com/code/cchangyyy/0-490-notebook\n",
    "\n",
    "time_series_cols = train_ts.columns.tolist()\n",
    "time_series_cols.remove(\"id\")\n",
    "\n",
    "train = pd.merge(train, train_ts, how=\"left\", on=\"id\")\n",
    "test = pd.merge(test, test_ts, how=\"left\", on=\"id\")\n",
    "\n",
    "train = train.drop(\"id\", axis=1)\n",
    "test = test.drop(\"id\", axis=1)"
   ]
  },
  {
   "cell_type": "code",
   "execution_count": null,
   "id": "bb13b463",
   "metadata": {
    "execution": {
     "iopub.execute_input": "2024-11-13T01:17:30.480934Z",
     "iopub.status.busy": "2024-11-13T01:17:30.480488Z",
     "iopub.status.idle": "2024-11-13T01:17:30.544253Z",
     "shell.execute_reply": "2024-11-13T01:17:30.543058Z"
    },
    "papermill": {
     "duration": 0.08657,
     "end_time": "2024-11-13T01:17:30.547680",
     "exception": false,
     "start_time": "2024-11-13T01:17:30.461110",
     "status": "completed"
    },
    "tags": []
   },
   "outputs": [],
   "source": [
    "#### AG 11/2/24 ###\n",
    "train.head(20)"
   ]
  },
  {
   "cell_type": "code",
   "execution_count": null,
   "id": "b7e57499",
   "metadata": {
    "execution": {
     "iopub.execute_input": "2024-11-13T01:17:30.587787Z",
     "iopub.status.busy": "2024-11-13T01:17:30.586865Z",
     "iopub.status.idle": "2024-11-13T01:17:30.790064Z",
     "shell.execute_reply": "2024-11-13T01:17:30.789016Z"
    },
    "papermill": {
     "duration": 0.227109,
     "end_time": "2024-11-13T01:17:30.793804",
     "exception": false,
     "start_time": "2024-11-13T01:17:30.566695",
     "status": "completed"
    },
    "tags": []
   },
   "outputs": [],
   "source": [
    "# There are null values in every column except for \"age\" , \"sex\", and \"basic season\"\n",
    "# sii: Severity Impairment Index: Range (0-3)\n",
    "train.describe().transpose()"
   ]
  },
  {
   "cell_type": "code",
   "execution_count": null,
   "id": "693d891e",
   "metadata": {
    "execution": {
     "iopub.execute_input": "2024-11-13T01:17:30.837877Z",
     "iopub.status.busy": "2024-11-13T01:17:30.837452Z",
     "iopub.status.idle": "2024-11-13T01:17:30.843383Z",
     "shell.execute_reply": "2024-11-13T01:17:30.842155Z"
    },
    "papermill": {
     "duration": 0.031053,
     "end_time": "2024-11-13T01:17:30.845935",
     "exception": false,
     "start_time": "2024-11-13T01:17:30.814882",
     "status": "completed"
    },
    "tags": []
   },
   "outputs": [],
   "source": [
    "####AG###\n",
    "\n",
    "#### Notes ####\n",
    "\n",
    "## Children Global Assessment Scale(CGAS) score is used to check the general\n",
    "# functioning level of children typically in the range of 1-100\n",
    "# CGAS score has max value 999 which might be an outlier.\n",
    "\n",
    "##PCIAT-PCIAT_Total = Parent-Child Internet Addiction Test\n",
    "# the score reflects addiction or PIU, which might be 0 if no problematic behavior is found\n",
    "##SDS-SDS_Total_Raw: Self-Rating Depression , raw scores can range from: 20-80\n",
    "# min for this is 38 in the table which means even lowest\n",
    "# scoring children may be experiencing mild depressive symptoms\n",
    "##PreInt_EduHx-computerinternet_hoursday : avg number of hours per day spent using internet"
   ]
  },
  {
   "cell_type": "code",
   "execution_count": null,
   "id": "0f23cdee",
   "metadata": {
    "execution": {
     "iopub.execute_input": "2024-11-13T01:17:30.888559Z",
     "iopub.status.busy": "2024-11-13T01:17:30.888101Z",
     "iopub.status.idle": "2024-11-13T01:17:30.905617Z",
     "shell.execute_reply": "2024-11-13T01:17:30.904386Z"
    },
    "papermill": {
     "duration": 0.041773,
     "end_time": "2024-11-13T01:17:30.908097",
     "exception": false,
     "start_time": "2024-11-13T01:17:30.866324",
     "status": "completed"
    },
    "tags": []
   },
   "outputs": [],
   "source": [
    "####AG###\n",
    "\n",
    "## Report of the extensive missing values ##\n",
    "\n",
    "# Fitness_Endurance-Max_Stage: 743 non-null (81% missing)\n",
    "# Fitness_Endurance-Time_Mins: 740 non-null (81% missing)\n",
    "# Fitness_Endurance-Time_Sec: 740 non-null (81% missing)\n",
    "# Physical-Waist_Circumference: 898 non-null (77% missing)\n",
    "# BIA-Activity_Level_num: 1991 non-null (50% missing)\n",
    "# BIA-BMC: 1991 non-null (50% missing)\n",
    "# BIA-BMI: 1991 non-null (50% missing)\n",
    "# BIA-BMR: 1991 non-null (50% missing)\n",
    "# BIA-DEE: 1991 non-null (50% missing)\n",
    "# BIA-ECW: 1991 non-null (50% missing)\n",
    "# PAQ_A-Season: 475 non-null (88% missing)\n",
    "# PAQ_A-PAQ_A_Total: 475 non-null (88% missing)\n",
    "# PAQ_C-Season: 1721 non-null (57% missing)\n",
    "# PAQ_C-PAQ_C_Total: 1721 non-null (57% missing)\n",
    "# PCIAT-Season: 2736 non-null (31% missing) with multiple related PCIAT columns also having missing data.\n",
    "# SDS-Season: 2618 non-null (34% missing)\n",
    "# SDS-SDS_Total_Raw: 2609 non-null (35% missing)\n",
    "# SDS-SDS_Total_T: 2606 non-null (35% missing)\n",
    "\n",
    "# CP: Check for missing/null values\n",
    "train.isnull().sum()"
   ]
  },
  {
   "cell_type": "code",
   "execution_count": null,
   "id": "2a760fb6",
   "metadata": {
    "execution": {
     "iopub.execute_input": "2024-11-13T01:17:30.950911Z",
     "iopub.status.busy": "2024-11-13T01:17:30.950454Z",
     "iopub.status.idle": "2024-11-13T01:17:30.984953Z",
     "shell.execute_reply": "2024-11-13T01:17:30.983635Z"
    },
    "papermill": {
     "duration": 0.059448,
     "end_time": "2024-11-13T01:17:30.987997",
     "exception": false,
     "start_time": "2024-11-13T01:17:30.928549",
     "status": "completed"
    },
    "tags": []
   },
   "outputs": [],
   "source": [
    "# CP: Explore data\n",
    "train.info()"
   ]
  },
  {
   "cell_type": "code",
   "execution_count": null,
   "id": "97752e3c",
   "metadata": {
    "execution": {
     "iopub.execute_input": "2024-11-13T01:17:31.031928Z",
     "iopub.status.busy": "2024-11-13T01:17:31.031450Z",
     "iopub.status.idle": "2024-11-13T01:17:31.038508Z",
     "shell.execute_reply": "2024-11-13T01:17:31.037463Z"
    },
    "papermill": {
     "duration": 0.031884,
     "end_time": "2024-11-13T01:17:31.041025",
     "exception": false,
     "start_time": "2024-11-13T01:17:31.009141",
     "status": "completed"
    },
    "tags": []
   },
   "outputs": [],
   "source": [
    "# CP: Explore data\n",
    "train.shape"
   ]
  },
  {
   "cell_type": "code",
   "execution_count": null,
   "id": "d94b3649",
   "metadata": {
    "execution": {
     "iopub.execute_input": "2024-11-13T01:17:31.086869Z",
     "iopub.status.busy": "2024-11-13T01:17:31.086424Z",
     "iopub.status.idle": "2024-11-13T01:17:31.098182Z",
     "shell.execute_reply": "2024-11-13T01:17:31.096829Z"
    },
    "papermill": {
     "duration": 0.038912,
     "end_time": "2024-11-13T01:17:31.100888",
     "exception": false,
     "start_time": "2024-11-13T01:17:31.061976",
     "status": "completed"
    },
    "tags": []
   },
   "outputs": [],
   "source": [
    "# CP: Check target values\n",
    "train[\"sii\"].value_counts()"
   ]
  },
  {
   "cell_type": "code",
   "execution_count": null,
   "id": "44a5538e",
   "metadata": {
    "execution": {
     "iopub.execute_input": "2024-11-13T01:17:31.145630Z",
     "iopub.status.busy": "2024-11-13T01:17:31.144426Z",
     "iopub.status.idle": "2024-11-13T01:17:31.153094Z",
     "shell.execute_reply": "2024-11-13T01:17:31.151911Z"
    },
    "papermill": {
     "duration": 0.033646,
     "end_time": "2024-11-13T01:17:31.155619",
     "exception": false,
     "start_time": "2024-11-13T01:17:31.121973",
     "status": "completed"
    },
    "tags": []
   },
   "outputs": [],
   "source": [
    "# CP: Check missing target values\n",
    "train[\"sii\"].isnull().sum()"
   ]
  },
  {
   "cell_type": "code",
   "execution_count": null,
   "id": "b1ac5ee6",
   "metadata": {
    "execution": {
     "iopub.execute_input": "2024-11-13T01:17:31.200651Z",
     "iopub.status.busy": "2024-11-13T01:17:31.200242Z",
     "iopub.status.idle": "2024-11-13T01:17:31.210091Z",
     "shell.execute_reply": "2024-11-13T01:17:31.208924Z"
    },
    "papermill": {
     "duration": 0.035453,
     "end_time": "2024-11-13T01:17:31.212702",
     "exception": false,
     "start_time": "2024-11-13T01:17:31.177249",
     "status": "completed"
    },
    "tags": []
   },
   "outputs": [],
   "source": [
    "# CP: Drop any rows where target value is missing\n",
    "# since they cannot be used for training.\n",
    "train.dropna(subset=[\"sii\"], inplace=True)"
   ]
  },
  {
   "cell_type": "code",
   "execution_count": null,
   "id": "d3050263",
   "metadata": {
    "execution": {
     "iopub.execute_input": "2024-11-13T01:17:31.257082Z",
     "iopub.status.busy": "2024-11-13T01:17:31.256622Z",
     "iopub.status.idle": "2024-11-13T01:17:31.265188Z",
     "shell.execute_reply": "2024-11-13T01:17:31.264011Z"
    },
    "papermill": {
     "duration": 0.033838,
     "end_time": "2024-11-13T01:17:31.267731",
     "exception": false,
     "start_time": "2024-11-13T01:17:31.233893",
     "status": "completed"
    },
    "tags": []
   },
   "outputs": [],
   "source": [
    "# CP: Recheck missing target values\n",
    "train[\"sii\"].isnull().sum()"
   ]
  },
  {
   "cell_type": "code",
   "execution_count": null,
   "id": "d4d13f73",
   "metadata": {
    "execution": {
     "iopub.execute_input": "2024-11-13T01:17:31.314437Z",
     "iopub.status.busy": "2024-11-13T01:17:31.312883Z",
     "iopub.status.idle": "2024-11-13T01:17:31.342387Z",
     "shell.execute_reply": "2024-11-13T01:17:31.341212Z"
    },
    "papermill": {
     "duration": 0.055327,
     "end_time": "2024-11-13T01:17:31.345159",
     "exception": false,
     "start_time": "2024-11-13T01:17:31.289832",
     "status": "completed"
    },
    "tags": []
   },
   "outputs": [],
   "source": [
    "# CP: Check for duplicates\n",
    "train.duplicated().sum()"
   ]
  },
  {
   "cell_type": "code",
   "execution_count": null,
   "id": "6e24f5b1",
   "metadata": {
    "execution": {
     "iopub.execute_input": "2024-11-13T01:17:31.391164Z",
     "iopub.status.busy": "2024-11-13T01:17:31.390687Z",
     "iopub.status.idle": "2024-11-13T01:17:31.398009Z",
     "shell.execute_reply": "2024-11-13T01:17:31.396921Z"
    },
    "papermill": {
     "duration": 0.034478,
     "end_time": "2024-11-13T01:17:31.401467",
     "exception": false,
     "start_time": "2024-11-13T01:17:31.366989",
     "status": "completed"
    },
    "tags": []
   },
   "outputs": [],
   "source": [
    "train.shape"
   ]
  },
  {
   "cell_type": "code",
   "execution_count": null,
   "id": "48fb3999",
   "metadata": {
    "execution": {
     "iopub.execute_input": "2024-11-13T01:17:31.462667Z",
     "iopub.status.busy": "2024-11-13T01:17:31.462185Z",
     "iopub.status.idle": "2024-11-13T01:17:31.482112Z",
     "shell.execute_reply": "2024-11-13T01:17:31.480846Z"
    },
    "papermill": {
     "duration": 0.054092,
     "end_time": "2024-11-13T01:17:31.484773",
     "exception": false,
     "start_time": "2024-11-13T01:17:31.430681",
     "status": "completed"
    },
    "tags": []
   },
   "outputs": [],
   "source": [
    "# 11/7/24 AG ###\n",
    "# checking columns with more than 50% of the data missing\n",
    "# CP: Adjusted to 64% due to parquet data\n",
    "missing_percentage = train.isnull().mean() * 100\n",
    "columns_with_missing_data = missing_percentage[missing_percentage > 64]\n",
    "columns_with_missing_data"
   ]
  },
  {
   "cell_type": "code",
   "execution_count": null,
   "id": "7d632be2",
   "metadata": {
    "execution": {
     "iopub.execute_input": "2024-11-13T01:17:31.531208Z",
     "iopub.status.busy": "2024-11-13T01:17:31.530099Z",
     "iopub.status.idle": "2024-11-13T01:17:31.579088Z",
     "shell.execute_reply": "2024-11-13T01:17:31.575620Z"
    },
    "papermill": {
     "duration": 0.07798,
     "end_time": "2024-11-13T01:17:31.584929",
     "exception": false,
     "start_time": "2024-11-13T01:17:31.506949",
     "status": "completed"
    },
    "tags": []
   },
   "outputs": [],
   "source": [
    "# Checking the correlation of the numeric columns with sii\n",
    "numerical_columns = train.select_dtypes(include=[\"float64\", \"int64\"]).columns\n",
    "\n",
    "# No sii in  the numerical columns to avoid correlating it with itself\n",
    "numerical_columns = numerical_columns[numerical_columns != \"sii\"]\n",
    "correlation = train[numerical_columns].corrwith(train[\"sii\"])\n",
    "\n",
    "correlation"
   ]
  },
  {
   "cell_type": "code",
   "execution_count": null,
   "id": "2b7713ce",
   "metadata": {
    "execution": {
     "iopub.execute_input": "2024-11-13T01:17:31.656257Z",
     "iopub.status.busy": "2024-11-13T01:17:31.654735Z",
     "iopub.status.idle": "2024-11-13T01:17:31.673630Z",
     "shell.execute_reply": "2024-11-13T01:17:31.672224Z"
    },
    "papermill": {
     "duration": 0.058962,
     "end_time": "2024-11-13T01:17:31.677418",
     "exception": false,
     "start_time": "2024-11-13T01:17:31.618456",
     "status": "completed"
    },
    "tags": []
   },
   "outputs": [],
   "source": [
    "train.isnull().sum()"
   ]
  },
  {
   "cell_type": "code",
   "execution_count": null,
   "id": "6956d5f7",
   "metadata": {
    "execution": {
     "iopub.execute_input": "2024-11-13T01:17:31.729853Z",
     "iopub.status.busy": "2024-11-13T01:17:31.729432Z",
     "iopub.status.idle": "2024-11-13T01:17:31.746988Z",
     "shell.execute_reply": "2024-11-13T01:17:31.745515Z"
    },
    "papermill": {
     "duration": 0.043841,
     "end_time": "2024-11-13T01:17:31.749660",
     "exception": false,
     "start_time": "2024-11-13T01:17:31.705819",
     "status": "completed"
    },
    "tags": []
   },
   "outputs": [],
   "source": [
    "# Check the missing percentage for specific columns\n",
    "columns_of_interest = [\n",
    "    \"PAQ_A-Season\",\n",
    "    \"PAQ_A-PAQ_A_Total\",\n",
    "    \"Physical-Waist_Circumference\",\n",
    "    \"Fitness_Endurance-Max_Stage\",\n",
    "    \"Fitness_Endurance-Time_Mins\",\n",
    "    \"Fitness_Endurance-Time_Sec\",\n",
    "]\n",
    "\n",
    "# percentage of missing values in these columns\n",
    "missing_percentage = train[columns_of_interest].isnull().mean() * 100\n",
    "print(\"Missing percentage:\")\n",
    "print(missing_percentage)\n",
    "\n",
    "numerical_columns = (\n",
    "    train[columns_of_interest].select_dtypes(include=[\"float64\", \"int64\"]).columns\n",
    ")\n",
    "\n",
    "# Calculate correlation of the numerical columns with the target variable 'sii'\n",
    "correlation_with_sii = train[numerical_columns].corrwith(train[\"sii\"])\n",
    "\n",
    "print(\"\\nCorrelation with sii:\")\n",
    "print(correlation_with_sii)"
   ]
  },
  {
   "cell_type": "code",
   "execution_count": null,
   "id": "01bd1ba2",
   "metadata": {
    "execution": {
     "iopub.execute_input": "2024-11-13T01:17:31.806419Z",
     "iopub.status.busy": "2024-11-13T01:17:31.805788Z",
     "iopub.status.idle": "2024-11-13T01:17:31.812919Z",
     "shell.execute_reply": "2024-11-13T01:17:31.811521Z"
    },
    "papermill": {
     "duration": 0.044733,
     "end_time": "2024-11-13T01:17:31.817853",
     "exception": false,
     "start_time": "2024-11-13T01:17:31.773120",
     "status": "completed"
    },
    "tags": []
   },
   "outputs": [],
   "source": [
    "# creating a backup\n",
    "backup_train = train.copy()"
   ]
  },
  {
   "cell_type": "code",
   "execution_count": null,
   "id": "3772ff47",
   "metadata": {
    "execution": {
     "iopub.execute_input": "2024-11-13T01:17:31.877249Z",
     "iopub.status.busy": "2024-11-13T01:17:31.876782Z",
     "iopub.status.idle": "2024-11-13T01:17:31.891686Z",
     "shell.execute_reply": "2024-11-13T01:17:31.890591Z"
    },
    "papermill": {
     "duration": 0.044916,
     "end_time": "2024-11-13T01:17:31.894478",
     "exception": false,
     "start_time": "2024-11-13T01:17:31.849562",
     "status": "completed"
    },
    "tags": []
   },
   "outputs": [],
   "source": [
    "# # Dropping columns that have null values more than 50% and weak sii connection\n",
    "# train.drop(columns=columns_of_interest, inplace=True)\n",
    "# test.drop(columns=columns_of_interest, inplace=True)\n",
    "# train.isnull().sum()"
   ]
  },
  {
   "cell_type": "code",
   "execution_count": null,
   "id": "5b2f78d1",
   "metadata": {
    "execution": {
     "iopub.execute_input": "2024-11-13T01:17:31.942929Z",
     "iopub.status.busy": "2024-11-13T01:17:31.942470Z",
     "iopub.status.idle": "2024-11-13T01:17:31.947753Z",
     "shell.execute_reply": "2024-11-13T01:17:31.946486Z"
    },
    "papermill": {
     "duration": 0.032828,
     "end_time": "2024-11-13T01:17:31.950537",
     "exception": false,
     "start_time": "2024-11-13T01:17:31.917709",
     "status": "completed"
    },
    "tags": []
   },
   "outputs": [],
   "source": [
    "# train = train.fillna(0) # replacing null values with 0 for uniformity"
   ]
  },
  {
   "cell_type": "code",
   "execution_count": null,
   "id": "e08dd4c1",
   "metadata": {
    "execution": {
     "iopub.execute_input": "2024-11-13T01:17:32.064571Z",
     "iopub.status.busy": "2024-11-13T01:17:32.063795Z",
     "iopub.status.idle": "2024-11-13T01:17:32.069117Z",
     "shell.execute_reply": "2024-11-13T01:17:32.067983Z"
    },
    "papermill": {
     "duration": 0.03225,
     "end_time": "2024-11-13T01:17:32.071470",
     "exception": false,
     "start_time": "2024-11-13T01:17:32.039220",
     "status": "completed"
    },
    "tags": []
   },
   "outputs": [],
   "source": [
    "# 11/9/24   AG ####\n",
    "\n",
    "# Further cleaning process ##\n",
    "\n",
    "# Fitness_Endurance-Season (1,476 missing)\n",
    "# FGC-FGC_GSND (1,864 missing)\n",
    "# FGC-FGC_GSND_Zone (1,872 missing)\n",
    "# FGC-FGC_GSD (1,865 missing)\n",
    "# FGC-FGC_GSD_Zone (1,872 missing)\n",
    "# PAQ_C-Season (1,296 missing)\n",
    "# PAQ_C-PAQ_C_Total (1,296 missing)"
   ]
  },
  {
   "cell_type": "code",
   "execution_count": null,
   "id": "d9751301",
   "metadata": {
    "execution": {
     "iopub.execute_input": "2024-11-13T01:17:32.119802Z",
     "iopub.status.busy": "2024-11-13T01:17:32.119341Z",
     "iopub.status.idle": "2024-11-13T01:17:32.140231Z",
     "shell.execute_reply": "2024-11-13T01:17:32.138554Z"
    },
    "papermill": {
     "duration": 0.048383,
     "end_time": "2024-11-13T01:17:32.143188",
     "exception": false,
     "start_time": "2024-11-13T01:17:32.094805",
     "status": "completed"
    },
    "tags": []
   },
   "outputs": [],
   "source": [
    "from sklearn.preprocessing import LabelEncoder\n",
    "\n",
    "# Encode categorical features\n",
    "train[\"Fitness_Endurance-Season\"] = LabelEncoder().fit_transform(\n",
    "    train[\"Fitness_Endurance-Season\"].astype(str)\n",
    ")\n",
    "train[\"PAQ_C-Season\"] = LabelEncoder().fit_transform(train[\"PAQ_C-Season\"].astype(str))\n",
    "\n",
    "selected_features = [\n",
    "    \"Fitness_Endurance-Season\",\n",
    "    \"FGC-FGC_GSND\",\n",
    "    \"FGC-FGC_GSND_Zone\",\n",
    "    \"FGC-FGC_GSD_Zone\",\n",
    "    \"FGC-FGC_GSD\",\n",
    "    \"PAQ_C-Season\",\n",
    "    \"PAQ_C-PAQ_C_Total\",\n",
    "]\n",
    "\n",
    "correlation = train[selected_features].corrwith(train[\"sii\"])\n",
    "\n",
    "print(\"\\nCorrelation with sii:\")\n",
    "print(correlation)"
   ]
  },
  {
   "cell_type": "code",
   "execution_count": null,
   "id": "28891b5a",
   "metadata": {
    "execution": {
     "iopub.execute_input": "2024-11-13T01:17:32.192538Z",
     "iopub.status.busy": "2024-11-13T01:17:32.192007Z",
     "iopub.status.idle": "2024-11-13T01:17:32.199938Z",
     "shell.execute_reply": "2024-11-13T01:17:32.198657Z"
    },
    "papermill": {
     "duration": 0.03586,
     "end_time": "2024-11-13T01:17:32.202545",
     "exception": false,
     "start_time": "2024-11-13T01:17:32.166685",
     "status": "completed"
    },
    "tags": []
   },
   "outputs": [],
   "source": [
    "# Notes #\n",
    "\n",
    "# Fitness_Endurance-Season\n",
    "# Meaning: Measures endurance levels during a specific season (e.g., Fall, Winter).\n",
    "# Relation to PIU: People who exercise more or have better endurance might spend less time on the internet. However, this feature doesn’t seem to impact PIU much.\n",
    "# Missing Values: 1,476\n",
    "# Correlation: -0.097 (weak negative relationship) - so decided to drop it\n",
    "\n",
    "\n",
    "# FGC-FGC_GSND\n",
    "# Meaning: Some specific fitness or physical activity score (GSND).\n",
    "# Relation to PIU: Higher physical fitness might indicate better lifestyle habits and less internet use.\n",
    "# Missing Values: 1,864\n",
    "# Correlation: 0.258 (moderate positive relationship)- Keep it\n",
    "\n",
    "# FGC-FGC_GSND_Zone\n",
    "# Meaning: A category or performance zone for the GSND score (e.g., low, medium, high).\n",
    "# Relation to PIU: Similar to FGC-FGC_GSND, categorizing fitness levels may help identify those at risk of PIU.\n",
    "# Missing Values: 1,872\n",
    "# Correlation: 0.226 (moderate positive relationship)\n",
    "# overlap with FGC-FGC_GSND?? Not sure\n",
    "\n",
    "# FGC-FGC_GSD\n",
    "# Meaning: Another specific physical fitness score (GSD).\n",
    "# Relation to PIU: Indicates general fitness levels, which might help reduce internet use.\n",
    "# Missing Values: 1,865\n",
    "# Correlation: 0.261 (moderate positive relationship)\n",
    "# Keeping it\n",
    "\n",
    "# FGC-FGC_GSD_Zone\n",
    "# Meaning: Zone or category for GSD (e.g., fitness performance level).\n",
    "# Relation to PIU: Helps categorize fitness levels and may highlight patterns in PIU.\n",
    "# Missing Values: 1,872\n",
    "# Correlation: 0.229 (moderate positive relationship)\n",
    "# Similar to FGC-FGC_GSD. could overlap?\n",
    "\n",
    "# PAQ_C-Season\n",
    "# Meaning: Seasonal data from a physical activity questionnaire (PAQ).\n",
    "# Relation to PIU: Physical activity might vary with seasons, which could affect internet habits.\n",
    "# Missing Values: 1,296\n",
    "# Correlation: 0.085 (weak positive relationship)\n",
    "#\n",
    "\n",
    "# PAQ_C-PAQ_C_Total\n",
    "# Meaning: Total score from the PAQ, summarizing physical activity levels.\n",
    "# Relation to PIU: Higher physical activity may reduce time spent online, improving lifestyle balance.\n",
    "# Missing Values: 1,296\n",
    "# Correlation: 0.076 (weak positive relationship)\n",
    "# Weak relation to PIU."
   ]
  },
  {
   "cell_type": "code",
   "execution_count": null,
   "id": "c2ccce27",
   "metadata": {
    "execution": {
     "iopub.execute_input": "2024-11-13T01:17:32.251334Z",
     "iopub.status.busy": "2024-11-13T01:17:32.250902Z",
     "iopub.status.idle": "2024-11-13T01:17:32.273453Z",
     "shell.execute_reply": "2024-11-13T01:17:32.272292Z"
    },
    "papermill": {
     "duration": 0.050075,
     "end_time": "2024-11-13T01:17:32.276295",
     "exception": false,
     "start_time": "2024-11-13T01:17:32.226220",
     "status": "completed"
    },
    "tags": []
   },
   "outputs": [],
   "source": [
    "columns_to_drop = [\"Fitness_Endurance-Season\", \"PAQ_C-Season\", \"PAQ_C-PAQ_C_Total\"]\n",
    "train = train.drop(columns=columns_to_drop)\n",
    "test = test.drop(columns=columns_to_drop)\n",
    "\n",
    "print(train.info())"
   ]
  },
  {
   "cell_type": "code",
   "execution_count": null,
   "id": "49e2cbce",
   "metadata": {
    "execution": {
     "iopub.execute_input": "2024-11-13T01:17:32.326870Z",
     "iopub.status.busy": "2024-11-13T01:17:32.325830Z",
     "iopub.status.idle": "2024-11-13T01:17:32.339025Z",
     "shell.execute_reply": "2024-11-13T01:17:32.337879Z"
    },
    "papermill": {
     "duration": 0.041785,
     "end_time": "2024-11-13T01:17:32.342231",
     "exception": false,
     "start_time": "2024-11-13T01:17:32.300446",
     "status": "completed"
    },
    "tags": []
   },
   "outputs": [],
   "source": [
    "# Checking features in  a corr matrix that might have overlap with each other\n",
    "\n",
    "overlap_features = [\n",
    "    \"FGC-FGC_GSND\",\n",
    "    \"FGC-FGC_GSND_Zone\",\n",
    "    \"FGC-FGC_GSD\",\n",
    "    \"FGC-FGC_GSD_Zone\",\n",
    "]\n",
    "\n",
    "correlation_matrix = train[overlap_features].corr()\n",
    "print(\"Correlation Matrix:\")\n",
    "print(correlation_matrix)"
   ]
  },
  {
   "cell_type": "code",
   "execution_count": null,
   "id": "7db3d977",
   "metadata": {
    "execution": {
     "iopub.execute_input": "2024-11-13T01:17:32.397540Z",
     "iopub.status.busy": "2024-11-13T01:17:32.397106Z",
     "iopub.status.idle": "2024-11-13T01:17:32.402130Z",
     "shell.execute_reply": "2024-11-13T01:17:32.401025Z"
    },
    "papermill": {
     "duration": 0.033411,
     "end_time": "2024-11-13T01:17:32.404606",
     "exception": false,
     "start_time": "2024-11-13T01:17:32.371195",
     "status": "completed"
    },
    "tags": []
   },
   "outputs": [],
   "source": [
    "# Can see a high correlation\n",
    "# FGC-FGC_GSND and FGC-FGC_GSD are providing nearly the same information.\n",
    "# Similarly, FGC-FGC_GSND_Zone and FGC-FGC_GSD_Zone\n",
    "\n",
    "# train = train.drop(columns=['FGC-FGC_GSND','FGC-FGC_GSND_Zone'])"
   ]
  },
  {
   "cell_type": "code",
   "execution_count": null,
   "id": "af7f0844",
   "metadata": {
    "execution": {
     "iopub.execute_input": "2024-11-13T01:17:32.456710Z",
     "iopub.status.busy": "2024-11-13T01:17:32.456282Z",
     "iopub.status.idle": "2024-11-13T01:17:32.464347Z",
     "shell.execute_reply": "2024-11-13T01:17:32.462920Z"
    },
    "papermill": {
     "duration": 0.037945,
     "end_time": "2024-11-13T01:17:32.466871",
     "exception": false,
     "start_time": "2024-11-13T01:17:32.428926",
     "status": "completed"
    },
    "tags": []
   },
   "outputs": [],
   "source": [
    "train = train.drop(\n",
    "    columns=[\n",
    "        \"Fitness_Endurance-Max_Stage\",\n",
    "        \"Fitness_Endurance-Time_Mins\",\n",
    "        \"Fitness_Endurance-Time_Sec\",\n",
    "    ]\n",
    ")  # had forgotton to drop these attributes with highest null values\n",
    "\n",
    "test = test.drop(\n",
    "    columns=[\n",
    "        \"Fitness_Endurance-Max_Stage\",\n",
    "        \"Fitness_Endurance-Time_Mins\",\n",
    "        \"Fitness_Endurance-Time_Sec\",\n",
    "    ]\n",
    ")"
   ]
  },
  {
   "cell_type": "code",
   "execution_count": null,
   "id": "f6a427ce",
   "metadata": {
    "execution": {
     "iopub.execute_input": "2024-11-13T01:17:32.518226Z",
     "iopub.status.busy": "2024-11-13T01:17:32.517724Z",
     "iopub.status.idle": "2024-11-13T01:17:32.539687Z",
     "shell.execute_reply": "2024-11-13T01:17:32.538219Z"
    },
    "papermill": {
     "duration": 0.05158,
     "end_time": "2024-11-13T01:17:32.543115",
     "exception": false,
     "start_time": "2024-11-13T01:17:32.491535",
     "status": "completed"
    },
    "tags": []
   },
   "outputs": [],
   "source": [
    "train.info()"
   ]
  },
  {
   "cell_type": "code",
   "execution_count": null,
   "id": "48742572",
   "metadata": {
    "execution": {
     "iopub.execute_input": "2024-11-13T01:17:32.597381Z",
     "iopub.status.busy": "2024-11-13T01:17:32.596936Z",
     "iopub.status.idle": "2024-11-13T01:17:32.604434Z",
     "shell.execute_reply": "2024-11-13T01:17:32.603155Z"
    },
    "papermill": {
     "duration": 0.037694,
     "end_time": "2024-11-13T01:17:32.606822",
     "exception": false,
     "start_time": "2024-11-13T01:17:32.569128",
     "status": "completed"
    },
    "tags": []
   },
   "outputs": [],
   "source": [
    "# train['PAQ_A-Season'].head(50)\n",
    "train = train.drop(columns=[\"PAQ_A-Season\"])\n",
    "test = test.drop(columns=[\"PAQ_A-Season\"])"
   ]
  },
  {
   "cell_type": "code",
   "execution_count": null,
   "id": "f0fbf495",
   "metadata": {
    "execution": {
     "iopub.execute_input": "2024-11-13T01:17:32.658608Z",
     "iopub.status.busy": "2024-11-13T01:17:32.657662Z",
     "iopub.status.idle": "2024-11-13T01:17:32.689305Z",
     "shell.execute_reply": "2024-11-13T01:17:32.687975Z"
    },
    "papermill": {
     "duration": 0.060462,
     "end_time": "2024-11-13T01:17:32.692097",
     "exception": false,
     "start_time": "2024-11-13T01:17:32.631635",
     "status": "completed"
    },
    "tags": [],
    "vscode": {
     "languageId": "ruby"
    }
   },
   "outputs": [],
   "source": [
    "# Working on categorical columnns\n",
    "\n",
    "categorical_columns = [\n",
    "    'Basic_Demos-Enroll_Season',\n",
    "    'CGAS-Season',\n",
    "    'Physical-Season',\n",
    "    'FGC-Season',\n",
    "    'BIA-Season',\n",
    "    'PCIAT-Season',\n",
    "    'SDS-Season',\n",
    "    'PreInt_EduHx-Season'\n",
    "]\n",
    "# Replace 0 values with Unknown for categorical attributes\n",
    "#train[categorical_columns] = train[categorical_columns].replace(0, 'Unknown')\n",
    "\n",
    "train[categorical_columns].head(50)"
   ]
  },
  {
   "cell_type": "code",
   "execution_count": null,
   "id": "e7a84fa0",
   "metadata": {
    "execution": {
     "iopub.execute_input": "2024-11-13T01:17:32.749315Z",
     "iopub.status.busy": "2024-11-13T01:17:32.747982Z",
     "iopub.status.idle": "2024-11-13T01:17:32.755588Z",
     "shell.execute_reply": "2024-11-13T01:17:32.754490Z"
    },
    "papermill": {
     "duration": 0.039288,
     "end_time": "2024-11-13T01:17:32.758461",
     "exception": false,
     "start_time": "2024-11-13T01:17:32.719173",
     "status": "completed"
    },
    "tags": []
   },
   "outputs": [],
   "source": [
    "# train = train.drop(columns=[\"id\"])"
   ]
  },
  {
   "cell_type": "code",
   "execution_count": null,
   "id": "0da47d79",
   "metadata": {
    "execution": {
     "iopub.execute_input": "2024-11-13T01:17:32.812490Z",
     "iopub.status.busy": "2024-11-13T01:17:32.812042Z",
     "iopub.status.idle": "2024-11-13T01:17:35.157341Z",
     "shell.execute_reply": "2024-11-13T01:17:35.156037Z"
    },
    "papermill": {
     "duration": 2.376062,
     "end_time": "2024-11-13T01:17:35.160840",
     "exception": false,
     "start_time": "2024-11-13T01:17:32.784778",
     "status": "completed"
    },
    "tags": []
   },
   "outputs": [],
   "source": [
    "# Plotting boxplots for sii  against each categorical column\n",
    "\n",
    "plt.figure(figsize=(16, 24))\n",
    "for i, col in enumerate(categorical_columns, 1):\n",
    "    plt.subplot(4, 2, i)\n",
    "    sns.boxplot(x=col, y=\"sii\", data=train)\n",
    "    plt.xticks(rotation=45)\n",
    "    plt.title(f\"'sii' vs {col}\")\n",
    "plt.tight_layout()\n",
    "plt.show()"
   ]
  },
  {
   "cell_type": "code",
   "execution_count": null,
   "id": "b8160b8a",
   "metadata": {
    "execution": {
     "iopub.execute_input": "2024-11-13T01:17:35.222167Z",
     "iopub.status.busy": "2024-11-13T01:17:35.221023Z",
     "iopub.status.idle": "2024-11-13T01:17:35.245460Z",
     "shell.execute_reply": "2024-11-13T01:17:35.244176Z"
    },
    "papermill": {
     "duration": 0.058743,
     "end_time": "2024-11-13T01:17:35.248771",
     "exception": false,
     "start_time": "2024-11-13T01:17:35.190028",
     "status": "completed"
    },
    "tags": []
   },
   "outputs": [],
   "source": [
    "# CP: Drop columns with season data\n",
    "train = train.drop(columns=train.filter(regex=\"Season$\").columns)\n",
    "test = test.drop(columns=test.filter(regex=\"Season$\").columns)\n",
    "train.info()"
   ]
  },
  {
   "cell_type": "code",
   "execution_count": null,
   "id": "49ab872a",
   "metadata": {},
   "outputs": [],
   "source": [
    "train.head(20)"
   ]
  },
  {
   "cell_type": "markdown",
   "id": "2b916d73",
   "metadata": {},
   "source": [
    "### Parquet data\n",
    "\n",
    "#### TO DO: Deal with parque data BEFORE using KNN\n"
   ]
  },
  {
   "cell_type": "code",
   "execution_count": null,
   "id": "521f6122",
   "metadata": {
    "execution": {
     "iopub.execute_input": "2024-11-13T01:17:35.308440Z",
     "iopub.status.busy": "2024-11-13T01:17:35.307537Z",
     "iopub.status.idle": "2024-11-13T01:17:37.772760Z",
     "shell.execute_reply": "2024-11-13T01:17:37.771501Z"
    },
    "papermill": {
     "duration": 2.498161,
     "end_time": "2024-11-13T01:17:37.775770",
     "exception": false,
     "start_time": "2024-11-13T01:17:35.277609",
     "status": "completed"
    },
    "tags": [],
    "vscode": {
     "languageId": "powershell"
    }
   },
   "outputs": [],
   "source": [
    "# CP: Fill in missing values using KNN\n",
    "from sklearn.impute import KNNImputer\n",
    "imputer = KNNImputer(n_neighbors=5)\n",
    "train_filled = imputer.fit_transform(train)\n",
    "train = pd.DataFrame(train_filled, columns=train.columns)\n",
    "train.isnull().sum().sum()"
   ]
  },
  {
   "cell_type": "code",
   "execution_count": null,
   "id": "3f8605b7",
   "metadata": {
    "vscode": {
     "languageId": "powershell"
    }
   },
   "outputs": [],
   "source": [
    "train.head()"
   ]
  },
  {
   "cell_type": "code",
   "execution_count": null,
   "id": "8cc332bf",
   "metadata": {
    "vscode": {
     "languageId": "powershell"
    }
   },
   "outputs": [],
   "source": [
    "train.shape, test.shape"
   ]
  },
  {
   "cell_type": "code",
   "execution_count": null,
   "id": "6ae2e973",
   "metadata": {
    "execution": {
     "iopub.execute_input": "2024-11-13T01:17:37.838255Z",
     "iopub.status.busy": "2024-11-13T01:17:37.836986Z",
     "iopub.status.idle": "2024-11-13T01:17:44.019108Z",
     "shell.execute_reply": "2024-11-13T01:17:44.017871Z"
    },
    "papermill": {
     "duration": 6.216243,
     "end_time": "2024-11-13T01:17:44.022062",
     "exception": false,
     "start_time": "2024-11-13T01:17:37.805819",
     "status": "completed"
    },
    "tags": [],
    "vscode": {
     "languageId": "powershell"
    }
   },
   "outputs": [],
   "source": [
    "# Ensure the test dataframe has the same columns as the training dataframe\n",
    "test_no_id = test.reindex(columns=train.columns, fill_value=0)\n",
    "\n",
    "# Apply the imputer to the test dataframe\n",
    "test_filled = imputer.transform(test_no_id)\n",
    "test_backup = test.copy()\n",
    "test = pd.DataFrame(test_filled, columns=test_no_id.columns)"
   ]
  },
  {
   "cell_type": "code",
   "execution_count": null,
   "id": "22ff7df4",
   "metadata": {
    "vscode": {
     "languageId": "powershell"
    }
   },
   "outputs": [],
   "source": [
    "train.shape, test.shape"
   ]
  },
  {
   "cell_type": "markdown",
   "id": "af697e5b",
   "metadata": {
    "papermill": {
     "duration": 0.028989,
     "end_time": "2024-11-13T01:17:44.081608",
     "exception": false,
     "start_time": "2024-11-13T01:17:44.052619",
     "status": "completed"
    },
    "tags": []
   },
   "source": [
    "## Training the model\n",
    "\n",
    "Portions of Random Forest code used from class.\n"
   ]
  },
  {
   "cell_type": "code",
   "execution_count": null,
   "id": "79e43112",
   "metadata": {
    "execution": {
     "iopub.execute_input": "2024-11-13T01:17:44.143482Z",
     "iopub.status.busy": "2024-11-13T01:17:44.142985Z",
     "iopub.status.idle": "2024-11-13T01:17:44.149678Z",
     "shell.execute_reply": "2024-11-13T01:17:44.147838Z"
    },
    "papermill": {
     "duration": 0.041118,
     "end_time": "2024-11-13T01:17:44.152711",
     "exception": false,
     "start_time": "2024-11-13T01:17:44.111593",
     "status": "completed"
    },
    "tags": [],
    "vscode": {
     "languageId": "powershell"
    }
   },
   "outputs": [],
   "source": [
    "# CP: Import the necessary libraries\n",
    "from sklearn.metrics import roc_auc_score"
   ]
  },
  {
   "cell_type": "code",
   "execution_count": null,
   "id": "d1b070e0",
   "metadata": {
    "vscode": {
     "languageId": "powershell"
    }
   },
   "outputs": [],
   "source": [
    "# Split the data into training and test sets\n",
    "X = train.drop('sii', axis=1).copy()\n",
    "y = train['sii'].copy()"
   ]
  },
  {
   "cell_type": "code",
   "execution_count": null,
   "id": "d9271beb",
   "metadata": {
    "execution": {
     "iopub.execute_input": "2024-11-13T01:17:44.296123Z",
     "iopub.status.busy": "2024-11-13T01:17:44.295575Z",
     "iopub.status.idle": "2024-11-13T01:17:44.301322Z",
     "shell.execute_reply": "2024-11-13T01:17:44.300106Z"
    },
    "papermill": {
     "duration": 0.041382,
     "end_time": "2024-11-13T01:17:44.303996",
     "exception": false,
     "start_time": "2024-11-13T01:17:44.262614",
     "status": "completed"
    },
    "tags": [],
    "vscode": {
     "languageId": "powershell"
    }
   },
   "outputs": [],
   "source": [
    "# Split the data into train and test sets\n",
    "X_train, X_test, y_train, y_test = train_test_split(X, y, test_size=0.2, random_state=42)"
   ]
  },
  {
   "cell_type": "code",
   "execution_count": null,
   "id": "b031fcb6",
   "metadata": {
    "execution": {
     "iopub.execute_input": "2024-11-13T01:17:44.517818Z",
     "iopub.status.busy": "2024-11-13T01:17:44.517347Z",
     "iopub.status.idle": "2024-11-13T01:17:44.525695Z",
     "shell.execute_reply": "2024-11-13T01:17:44.524420Z"
    },
    "papermill": {
     "duration": 0.044495,
     "end_time": "2024-11-13T01:17:44.528148",
     "exception": false,
     "start_time": "2024-11-13T01:17:44.483653",
     "status": "completed"
    },
    "tags": [],
    "vscode": {
     "languageId": "powershell"
    }
   },
   "outputs": [],
   "source": [
    "# Number of samples and features\n",
    "num_features = X_train.shape[1]\n",
    "num_samples = X_train.shape[0]\n",
    "num_samples, num_features"
   ]
  },
  {
   "cell_type": "code",
   "execution_count": null,
   "id": "7be70d5d",
   "metadata": {
    "vscode": {
     "languageId": "powershell"
    }
   },
   "outputs": [],
   "source": [
    "# Import libraries\n",
    "from sklearn.pipeline import Pipeline\n",
    "from sklearn.linear_model import LogisticRegression\n",
    "from sklearn.ensemble import RandomForestClassifier\n",
    "from sklearn.naive_bayes import GaussianNB\n",
    "from sklearn import svm\n",
    "\n",
    "from sklearn.metrics import classification_report\n",
    "from sklearn import metrics\n",
    "from sklearn.metrics import f1_score"
   ]
  },
  {
   "cell_type": "markdown",
   "id": "ea4ae6ff",
   "metadata": {},
   "source": [
    "### Pipelines\n"
   ]
  },
  {
   "cell_type": "code",
   "execution_count": null,
   "id": "278afb2c",
   "metadata": {
    "vscode": {
     "languageId": "powershell"
    }
   },
   "outputs": [],
   "source": [
    "# Used pipelines to compare models and reduce code\n",
    "pl_lr = Pipeline([('log_reg', LogisticRegression(solver='liblinear', max_iter=1000))])\n",
    "pl_rf = Pipeline([('rf', RandomForestClassifier())])\n",
    "pl_gnb = Pipeline([('gnb', GaussianNB())])\n",
    "pl_svm = Pipeline([('svm', svm.SVC(kernel='linear'))])\n",
    "\n",
    "pipelines = [pl_lr, pl_rf, pl_gnb, pl_svm]\n",
    "pipe_dict = {0: 'Logistic Regression', 1: 'Random Forest', 2: 'Naive Bayes', 3: 'SVM'}\n",
    "\n",
    "for pipe in pipelines:\n",
    "    pipe.fit(X_train, y_train)\n",
    "\n",
    "for i, model in enumerate(pipelines):\n",
    "    pred_test = model.predict(X_test)\n",
    "    print(\"{} Test F1: {}\".format(pipe_dict[i], f1_score(y_test, pred_test)))\n",
    "    print(classification_report(y_test, pred_test))\n",
    "    metrics.confusion_matrix(y_test, pred_test)\n"
   ]
  },
  {
   "cell_type": "code",
   "execution_count": null,
   "id": "62237cf3",
   "metadata": {
    "execution": {
     "iopub.execute_input": "2024-11-13T01:17:44.592082Z",
     "iopub.status.busy": "2024-11-13T01:17:44.591580Z",
     "iopub.status.idle": "2024-11-13T01:19:53.274134Z",
     "shell.execute_reply": "2024-11-13T01:19:53.272759Z"
    },
    "papermill": {
     "duration": 128.71833,
     "end_time": "2024-11-13T01:19:53.277393",
     "exception": false,
     "start_time": "2024-11-13T01:17:44.559063",
     "status": "completed"
    },
    "tags": [],
    "vscode": {
     "languageId": "powershell"
    }
   },
   "outputs": [],
   "source": [
    "# clf = RandomForestClassifier(warm_start=True, \n",
    "#                                oob_score=True,\n",
    "#                                min_samples_leaf=40,\n",
    "#                                max_depth = 10,\n",
    "#                                random_state=42)\n",
    "\n",
    "# error_rate = {}\n",
    "\n",
    "# # Range of n_estimators values to explore.\n",
    "# min_estimators = 80\n",
    "# max_estimators = 500\n",
    "\n",
    "# for i in range(min_estimators, max_estimators + 1):\n",
    "#     clf.set_params(n_estimators=i) \n",
    "#     clf.fit(X_train.values, y_train.values)\n",
    "\n",
    "#     # Record the OOB error for each `n_estimators=i` setting.\n",
    "#     oob_error = 1 - clf.oob_score_\n",
    "#     error_rate[i] = oob_error"
   ]
  },
  {
   "cell_type": "code",
   "execution_count": null,
   "id": "c32289c6",
   "metadata": {
    "execution": {
     "iopub.execute_input": "2024-11-13T01:19:53.342094Z",
     "iopub.status.busy": "2024-11-13T01:19:53.341621Z",
     "iopub.status.idle": "2024-11-13T01:19:53.620171Z",
     "shell.execute_reply": "2024-11-13T01:19:53.618791Z"
    },
    "papermill": {
     "duration": 0.315302,
     "end_time": "2024-11-13T01:19:53.623582",
     "exception": false,
     "start_time": "2024-11-13T01:19:53.308280",
     "status": "completed"
    },
    "tags": [],
    "vscode": {
     "languageId": "powershell"
    }
   },
   "outputs": [],
   "source": [
    "# # Generate the \"OOB error rate\" vs. \"n_estimators\" plot.\n",
    "# # OOB error rate = num_missclassified/total observations (%)\\\n",
    "# xs = []\n",
    "# ys = []\n",
    "# for label, clf_err in error_rate.items():\n",
    "#     xs.append(label)\n",
    "#     ys.append(clf_err)   \n",
    "# plt.plot(xs, ys)\n",
    "# plt.xlim(min_estimators, max_estimators)\n",
    "# plt.xlabel(\"n_estimators\")\n",
    "# plt.ylabel(\"OOB error rate\")\n",
    "# plt.show();\n"
   ]
  },
  {
   "cell_type": "code",
   "execution_count": null,
   "id": "4d6b75c3",
   "metadata": {
    "execution": {
     "iopub.execute_input": "2024-11-13T01:19:53.690554Z",
     "iopub.status.busy": "2024-11-13T01:19:53.688914Z",
     "iopub.status.idle": "2024-11-13T01:19:54.072655Z",
     "shell.execute_reply": "2024-11-13T01:19:54.071250Z"
    },
    "papermill": {
     "duration": 0.41925,
     "end_time": "2024-11-13T01:19:54.075384",
     "exception": false,
     "start_time": "2024-11-13T01:19:53.656134",
     "status": "completed"
    },
    "tags": [],
    "vscode": {
     "languageId": "powershell"
    }
   },
   "outputs": [],
   "source": [
    "# from sklearn.metrics import accuracy_score, precision_score, recall_score, f1_score\n",
    "# # Get scores (accuracy, precision, recall, f1, roc-auc)\n",
    "# y_pred = clf.predict(X_train.values)\n",
    "# y_pred_proba = clf.predict_proba(X_train.values)\n",
    "\n",
    "# accuracy = accuracy_score(y_train, y_pred)\n",
    "# precision = precision_score(y_train, y_pred, average='weighted', zero_division=1)\n",
    "# recall = recall_score(y_train, y_pred, average='weighted')\n",
    "# f1 = f1_score(y_train, y_pred, average='weighted')\n",
    "# roc_auc = roc_auc_score(y_train, y_pred_proba, multi_class='ovr')\n",
    "\n",
    "# # Print the scores\n",
    "# print('Accuracy: ', accuracy)\n",
    "# print('Precision: ', precision)\n",
    "# print('Recall: ', recall)\n",
    "# print('F1: ', f1)\n",
    "# print('ROC-AUC:', roc_auc)"
   ]
  },
  {
   "cell_type": "code",
   "execution_count": null,
   "id": "ad13c6d0",
   "metadata": {
    "execution": {
     "iopub.execute_input": "2024-11-13T01:19:54.228713Z",
     "iopub.status.busy": "2024-11-13T01:19:54.228248Z",
     "iopub.status.idle": "2024-11-13T01:19:54.642143Z",
     "shell.execute_reply": "2024-11-13T01:19:54.640920Z"
    },
    "papermill": {
     "duration": 0.451152,
     "end_time": "2024-11-13T01:19:54.644733",
     "exception": false,
     "start_time": "2024-11-13T01:19:54.193581",
     "status": "completed"
    },
    "tags": [],
    "vscode": {
     "languageId": "powershell"
    }
   },
   "outputs": [],
   "source": [
    "# from sklearn import metrics\n",
    "# class_names=[0,1]\n",
    "# fig, ax = plt.subplots()\n",
    "# tick_marks = np.arange(len(class_names))\n",
    "# plt.xticks(tick_marks, class_names)\n",
    "# plt.yticks(tick_marks, class_names)\n",
    "# cnf_matrix = metrics.confusion_matrix(y_train, y_pred)\n",
    "# sns.heatmap(pd.DataFrame(cnf_matrix), annot=True, cmap=\"YlGnBu\" ,fmt='g')\n",
    "# ax.xaxis.set_label_position(\"top\")\n",
    "# plt.tight_layout()\n",
    "# plt.title('Confusion matrix', y=1.1)\n",
    "# plt.ylabel('Actual label')\n",
    "# plt.xlabel('Predicted label')"
   ]
  },
  {
   "cell_type": "code",
   "execution_count": null,
   "id": "8006edea",
   "metadata": {
    "execution": {
     "iopub.execute_input": "2024-11-13T01:19:54.714890Z",
     "iopub.status.busy": "2024-11-13T01:19:54.714328Z",
     "iopub.status.idle": "2024-11-13T01:19:54.752443Z",
     "shell.execute_reply": "2024-11-13T01:19:54.750999Z"
    },
    "papermill": {
     "duration": 0.076496,
     "end_time": "2024-11-13T01:19:54.755520",
     "exception": false,
     "start_time": "2024-11-13T01:19:54.679024",
     "status": "completed"
    },
    "tags": [],
    "vscode": {
     "languageId": "powershell"
    }
   },
   "outputs": [],
   "source": [
    "# # Get feature importances\n",
    "# columns = train.columns\n",
    "\n",
    "# importances = clf.feature_importances_\n",
    "# indices = np.argsort(importances)[::-1]\n",
    "\n",
    "# # print(importances)\n",
    "# # print(indices)\n",
    "\n",
    "# # Summarize feature importances\n",
    "# print(\"Feature ranking:\")\n",
    "# for f in range(X_train.shape[1]):\n",
    "#     print(f\"{f + 1}. feature {columns[indices[f]]} ({importances[indices[f]]:.3f})\")\n",
    "\n",
    "# # Plot the feature importances of the forest\n",
    "# # plt.figure()\n",
    "# # plt.title(\"Feature importances\")\n",
    "# # plt.bar(range(X_train.shape[1]), importances[indices], color=\"r\", align=\"center\")\n",
    "# # plt.xticks(range(X_train.shape[1]), [columns[i] for i in indices], rotation=90)\n",
    "# # plt.xlim([-1, X_train.shape[1]])\n",
    "# # plt.show()"
   ]
  },
  {
   "cell_type": "code",
   "execution_count": null,
   "id": "c75e07b6",
   "metadata": {
    "vscode": {
     "languageId": "powershell"
    }
   },
   "outputs": [],
   "source": [
    "# # Make sure train and test sets have the same columns\n",
    "# train_columns = X_train.columns\n",
    "# test_columns = test.columns\n",
    "# missing_columns = set(train_columns) - set(test_columns)\n",
    "# missing_columns"
   ]
  },
  {
   "cell_type": "code",
   "execution_count": null,
   "id": "46f177e2",
   "metadata": {
    "vscode": {
     "languageId": "powershell"
    }
   },
   "outputs": [],
   "source": [
    "# # Make sure train and test match\n",
    "# test_copy = test.reindex(columns=X_train.columns)"
   ]
  },
  {
   "cell_type": "code",
   "execution_count": null,
   "id": "d6525c7d",
   "metadata": {
    "execution": {
     "iopub.execute_input": "2024-11-13T01:19:54.825490Z",
     "iopub.status.busy": "2024-11-13T01:19:54.825057Z",
     "iopub.status.idle": "2024-11-13T01:19:55.054291Z",
     "shell.execute_reply": "2024-11-13T01:19:55.053004Z"
    },
    "papermill": {
     "duration": 0.268001,
     "end_time": "2024-11-13T01:19:55.057381",
     "exception": false,
     "start_time": "2024-11-13T01:19:54.789380",
     "status": "completed"
    },
    "tags": [],
    "vscode": {
     "languageId": "powershell"
    }
   },
   "outputs": [],
   "source": [
    "# # Generate predictions for the test set\n",
    "# y_test_pred = clf.predict(test_copy.values)\n",
    "\n",
    "# # Convert to int\n",
    "# y_test_pred = y_test_pred.astype(int)"
   ]
  },
  {
   "cell_type": "code",
   "execution_count": null,
   "id": "7d1ee691",
   "metadata": {
    "vscode": {
     "languageId": "powershell"
    }
   },
   "outputs": [],
   "source": [
    "# y_test_pred"
   ]
  },
  {
   "cell_type": "code",
   "execution_count": null,
   "id": "a8964d1d",
   "metadata": {
    "execution": {
     "iopub.execute_input": "2024-11-13T01:19:55.130044Z",
     "iopub.status.busy": "2024-11-13T01:19:55.129078Z",
     "iopub.status.idle": "2024-11-13T01:19:55.145104Z",
     "shell.execute_reply": "2024-11-13T01:19:55.143823Z"
    },
    "papermill": {
     "duration": 0.054781,
     "end_time": "2024-11-13T01:19:55.148036",
     "exception": false,
     "start_time": "2024-11-13T01:19:55.093255",
     "status": "completed"
    },
    "tags": [],
    "vscode": {
     "languageId": "powershell"
    }
   },
   "outputs": [],
   "source": [
    "# # Export CSV file with predictions\n",
    "# output = pd.DataFrame({'id': test_backup['id'], 'sii': y_test_pred})\n",
    "# output.to_csv('submission.csv', index=False)"
   ]
  },
  {
   "cell_type": "code",
   "execution_count": null,
   "id": "2e22a7f8",
   "metadata": {
    "papermill": {
     "duration": 0.03414,
     "end_time": "2024-11-13T01:19:55.216207",
     "exception": false,
     "start_time": "2024-11-13T01:19:55.182067",
     "status": "completed"
    },
    "tags": [],
    "vscode": {
     "languageId": "powershell"
    }
   },
   "outputs": [],
   "source": []
  }
 ],
 "metadata": {
  "kaggle": {
   "accelerator": "none",
   "dataSources": [
    {
     "databundleVersionId": 9643020,
     "sourceId": 81933,
     "sourceType": "competition"
    }
   ],
   "dockerImageVersionId": 30786,
   "isGpuEnabled": false,
   "isInternetEnabled": false,
   "language": "python",
   "sourceType": "notebook"
  },
  "kernelspec": {
   "display_name": "base",
   "language": "python",
   "name": "python3"
  },
  "language_info": {
   "codemirror_mode": {
    "name": "ipython",
    "version": 3
   },
   "file_extension": ".py",
   "mimetype": "text/x-python",
   "name": "python",
   "nbconvert_exporter": "python",
   "pygments_lexer": "ipython3",
   "version": "3.10.14"
  },
  "papermill": {
   "default_parameters": {},
   "duration": 152.8159,
   "end_time": "2024-11-13T01:19:56.073622",
   "environment_variables": {},
   "exception": null,
   "input_path": "__notebook__.ipynb",
   "output_path": "__notebook__.ipynb",
   "parameters": {},
   "start_time": "2024-11-13T01:17:23.257722",
   "version": "2.6.0"
  }
 },
 "nbformat": 4,
 "nbformat_minor": 5
}
