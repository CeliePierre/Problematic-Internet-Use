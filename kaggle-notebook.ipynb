{
 "cells": [
  {
   "cell_type": "markdown",
   "id": "7aa4491c",
   "metadata": {
    "papermill": {
     "duration": 0.004489,
     "end_time": "2024-11-28T21:52:36.981081",
     "exception": false,
     "start_time": "2024-11-28T21:52:36.976592",
     "status": "completed"
    },
    "tags": []
   },
   "source": [
    "# Child Mind Institute — Problematic Internet Use\n",
    "\n",
    "## Team notes\n",
    "\n",
    "from Célie, 11/2:\n",
    "\n",
    "- Hi Anusha! I will label my work with a comment and my initials (CP).\n",
    "- You can link the Kaggle notebook to your GitHub from within Kaggle.\n",
    "- If using GitHub, save data locally in file kaggle_data (file is ignored by git)\n",
    "- If using Kaggle notebook, data is located in: /kaggle/input/child-mind-institute-problematic-internet-use/\n",
    "- I am using my local directory but if you are using Kaggle, you'll need to switch the commented out code.\n"
   ]
  },
  {
   "cell_type": "code",
   "execution_count": 1,
   "id": "a61106d8",
   "metadata": {
    "_cell_guid": "b1076dfc-b9ad-4769-8c92-a6c4dae69d19",
    "_uuid": "8f2839f25d086af736a60e9eeb907d3b93b6e0e5",
    "execution": {
     "iopub.execute_input": "2024-11-28T21:52:36.989445Z",
     "iopub.status.busy": "2024-11-28T21:52:36.989052Z",
     "iopub.status.idle": "2024-11-28T21:52:36.994147Z",
     "shell.execute_reply": "2024-11-28T21:52:36.993359Z"
    },
    "papermill": {
     "duration": 0.011531,
     "end_time": "2024-11-28T21:52:36.995977",
     "exception": false,
     "start_time": "2024-11-28T21:52:36.984446",
     "status": "completed"
    },
    "tags": []
   },
   "outputs": [],
   "source": [
    "# # CP: Show available files\n",
    "\n",
    "# # CP: If using local directory\n",
    "# # import os\n",
    "# # for dirname, _, filenames in os.walk('kaggle_data'):\n",
    "# #     for filename in filenames:\n",
    "# #         print(os.path.join(dirname, filename))\n",
    "\n",
    "# # CP: If using Kaggle\n",
    "# import os\n",
    "# for dirname, _, filenames in os.walk('/kaggle/input'):\n",
    "#     for filename in filenames:\n",
    "#         print(os.path.join(dirname, filename))"
   ]
  },
  {
   "cell_type": "code",
   "execution_count": 2,
   "id": "4993097d",
   "metadata": {
    "execution": {
     "iopub.execute_input": "2024-11-28T21:52:37.004373Z",
     "iopub.status.busy": "2024-11-28T21:52:37.003577Z",
     "iopub.status.idle": "2024-11-28T21:52:40.065469Z",
     "shell.execute_reply": "2024-11-28T21:52:40.064582Z"
    },
    "papermill": {
     "duration": 3.068628,
     "end_time": "2024-11-28T21:52:40.067932",
     "exception": false,
     "start_time": "2024-11-28T21:52:36.999304",
     "status": "completed"
    },
    "tags": []
   },
   "outputs": [],
   "source": [
    "import matplotlib.pyplot as plt \n",
    "import seaborn as sns \n",
    "from sklearn.model_selection import train_test_split\n",
    "from sklearn.ensemble import RandomForestClassifier\n",
    "from sklearn.metrics import classification_report, confusion_matrix\n",
    "from sklearn.preprocessing import StandardScaler\n",
    "from sklearn.decomposition import PCA\n",
    "\n",
    "####AG###\n",
    "\n",
    "# CP\n",
    "import numpy as np\n",
    "import pandas as pd"
   ]
  },
  {
   "cell_type": "code",
   "execution_count": 3,
   "id": "000a7e07",
   "metadata": {
    "execution": {
     "iopub.execute_input": "2024-11-28T21:52:40.076651Z",
     "iopub.status.busy": "2024-11-28T21:52:40.075919Z",
     "iopub.status.idle": "2024-11-28T21:52:40.150957Z",
     "shell.execute_reply": "2024-11-28T21:52:40.150117Z"
    },
    "papermill": {
     "duration": 0.081799,
     "end_time": "2024-11-28T21:52:40.153291",
     "exception": false,
     "start_time": "2024-11-28T21:52:40.071492",
     "status": "completed"
    },
    "tags": []
   },
   "outputs": [],
   "source": [
    "test_data = pd.read_csv('/kaggle/input/child-mind-institute-problematic-internet-use/test.csv')\n",
    "column_names = list(test_data.columns)\n",
    "train_data = pd.read_csv('/kaggle/input/child-mind-institute-problematic-internet-use/train.csv')\n",
    "\n",
    "column_names = list(test_data.columns)"
   ]
  },
  {
   "cell_type": "code",
   "execution_count": 4,
   "id": "453a6c78",
   "metadata": {
    "execution": {
     "iopub.execute_input": "2024-11-28T21:52:40.161892Z",
     "iopub.status.busy": "2024-11-28T21:52:40.161133Z",
     "iopub.status.idle": "2024-11-28T21:52:40.181131Z",
     "shell.execute_reply": "2024-11-28T21:52:40.180027Z"
    },
    "papermill": {
     "duration": 0.026351,
     "end_time": "2024-11-28T21:52:40.183133",
     "exception": false,
     "start_time": "2024-11-28T21:52:40.156782",
     "status": "completed"
    },
    "tags": []
   },
   "outputs": [
    {
     "name": "stdout",
     "output_type": "stream",
     "text": [
      "Index(['sii'], dtype='object')\n",
      "(3960, 60)\n",
      "(20, 59)\n"
     ]
    }
   ],
   "source": [
    "target = train_data['sii']\n",
    "train_data = pd.DataFrame(train_data, columns = column_names)\n",
    "\n",
    "train_data['sii'] = target\n",
    "\n",
    "print(train_data.columns.difference(test_data.columns))\n",
    "print(train_data.shape)\n",
    "print(test_data.shape)"
   ]
  },
  {
   "cell_type": "code",
   "execution_count": 5,
   "id": "6a7be4e0",
   "metadata": {
    "execution": {
     "iopub.execute_input": "2024-11-28T21:52:40.191184Z",
     "iopub.status.busy": "2024-11-28T21:52:40.190847Z",
     "iopub.status.idle": "2024-11-28T21:52:40.198000Z",
     "shell.execute_reply": "2024-11-28T21:52:40.197168Z"
    },
    "papermill": {
     "duration": 0.01323,
     "end_time": "2024-11-28T21:52:40.199852",
     "exception": false,
     "start_time": "2024-11-28T21:52:40.186622",
     "status": "completed"
    },
    "tags": []
   },
   "outputs": [],
   "source": [
    "ids = test_data['id']\n",
    "\n",
    "train_data = train_data.drop('id', axis=1)\n",
    "test_data = test_data.drop('id', axis=1)"
   ]
  },
  {
   "cell_type": "code",
   "execution_count": 6,
   "id": "76356709",
   "metadata": {
    "execution": {
     "iopub.execute_input": "2024-11-28T21:52:40.208406Z",
     "iopub.status.busy": "2024-11-28T21:52:40.207582Z",
     "iopub.status.idle": "2024-11-28T21:52:40.243746Z",
     "shell.execute_reply": "2024-11-28T21:52:40.242601Z"
    },
    "papermill": {
     "duration": 0.042767,
     "end_time": "2024-11-28T21:52:40.246024",
     "exception": false,
     "start_time": "2024-11-28T21:52:40.203257",
     "status": "completed"
    },
    "tags": []
   },
   "outputs": [],
   "source": [
    "train_data = pd.get_dummies(train_data)\n",
    "test_data = pd.get_dummies(test_data)\n",
    "train_data, test_data = train_data.align(test_data, join='outer', axis = 1)\n",
    "\n",
    "train_data.fillna(value=0, inplace=True)\n",
    "test_data.fillna(value=0, inplace=True)"
   ]
  },
  {
   "cell_type": "code",
   "execution_count": 7,
   "id": "56561a01",
   "metadata": {
    "execution": {
     "iopub.execute_input": "2024-11-28T21:52:40.254503Z",
     "iopub.status.busy": "2024-11-28T21:52:40.253958Z",
     "iopub.status.idle": "2024-11-28T21:52:40.288723Z",
     "shell.execute_reply": "2024-11-28T21:52:40.287769Z"
    },
    "papermill": {
     "duration": 0.042259,
     "end_time": "2024-11-28T21:52:40.291853",
     "exception": false,
     "start_time": "2024-11-28T21:52:40.249594",
     "status": "completed"
    },
    "tags": []
   },
   "outputs": [
    {
     "name": "stdout",
     "output_type": "stream",
     "text": [
      "(3960, 89)\n",
      "(20, 89)\n",
      "<class 'pandas.core.frame.DataFrame'>\n",
      "RangeIndex: 3960 entries, 0 to 3959\n",
      "Data columns (total 89 columns):\n",
      " #   Column                                  Non-Null Count  Dtype  \n",
      "---  ------                                  --------------  -----  \n",
      " 0   BIA-BIA_Activity_Level_num              3960 non-null   float64\n",
      " 1   BIA-BIA_BMC                             3960 non-null   float64\n",
      " 2   BIA-BIA_BMI                             3960 non-null   float64\n",
      " 3   BIA-BIA_BMR                             3960 non-null   float64\n",
      " 4   BIA-BIA_DEE                             3960 non-null   float64\n",
      " 5   BIA-BIA_ECW                             3960 non-null   float64\n",
      " 6   BIA-BIA_FFM                             3960 non-null   float64\n",
      " 7   BIA-BIA_FFMI                            3960 non-null   float64\n",
      " 8   BIA-BIA_FMI                             3960 non-null   float64\n",
      " 9   BIA-BIA_Fat                             3960 non-null   float64\n",
      " 10  BIA-BIA_Frame_num                       3960 non-null   float64\n",
      " 11  BIA-BIA_ICW                             3960 non-null   float64\n",
      " 12  BIA-BIA_LDM                             3960 non-null   float64\n",
      " 13  BIA-BIA_LST                             3960 non-null   float64\n",
      " 14  BIA-BIA_SMM                             3960 non-null   float64\n",
      " 15  BIA-BIA_TBW                             3960 non-null   float64\n",
      " 16  BIA-Season_Fall                         3960 non-null   bool   \n",
      " 17  BIA-Season_Spring                       3960 non-null   bool   \n",
      " 18  BIA-Season_Summer                       3960 non-null   bool   \n",
      " 19  BIA-Season_Winter                       3960 non-null   bool   \n",
      " 20  Basic_Demos-Age                         3960 non-null   int64  \n",
      " 21  Basic_Demos-Enroll_Season_Fall          3960 non-null   bool   \n",
      " 22  Basic_Demos-Enroll_Season_Spring        3960 non-null   bool   \n",
      " 23  Basic_Demos-Enroll_Season_Summer        3960 non-null   bool   \n",
      " 24  Basic_Demos-Enroll_Season_Winter        3960 non-null   bool   \n",
      " 25  Basic_Demos-Sex                         3960 non-null   int64  \n",
      " 26  CGAS-CGAS_Score                         3960 non-null   float64\n",
      " 27  CGAS-Season_Fall                        3960 non-null   bool   \n",
      " 28  CGAS-Season_Spring                      3960 non-null   bool   \n",
      " 29  CGAS-Season_Summer                      3960 non-null   bool   \n",
      " 30  CGAS-Season_Winter                      3960 non-null   bool   \n",
      " 31  FGC-FGC_CU                              3960 non-null   float64\n",
      " 32  FGC-FGC_CU_Zone                         3960 non-null   float64\n",
      " 33  FGC-FGC_GSD                             3960 non-null   float64\n",
      " 34  FGC-FGC_GSD_Zone                        3960 non-null   float64\n",
      " 35  FGC-FGC_GSND                            3960 non-null   float64\n",
      " 36  FGC-FGC_GSND_Zone                       3960 non-null   float64\n",
      " 37  FGC-FGC_PU                              3960 non-null   float64\n",
      " 38  FGC-FGC_PU_Zone                         3960 non-null   float64\n",
      " 39  FGC-FGC_SRL                             3960 non-null   float64\n",
      " 40  FGC-FGC_SRL_Zone                        3960 non-null   float64\n",
      " 41  FGC-FGC_SRR                             3960 non-null   float64\n",
      " 42  FGC-FGC_SRR_Zone                        3960 non-null   float64\n",
      " 43  FGC-FGC_TL                              3960 non-null   float64\n",
      " 44  FGC-FGC_TL_Zone                         3960 non-null   float64\n",
      " 45  FGC-Season_Fall                         3960 non-null   bool   \n",
      " 46  FGC-Season_Spring                       3960 non-null   bool   \n",
      " 47  FGC-Season_Summer                       3960 non-null   bool   \n",
      " 48  FGC-Season_Winter                       3960 non-null   bool   \n",
      " 49  Fitness_Endurance-Max_Stage             3960 non-null   float64\n",
      " 50  Fitness_Endurance-Season_Fall           3960 non-null   bool   \n",
      " 51  Fitness_Endurance-Season_Spring         3960 non-null   bool   \n",
      " 52  Fitness_Endurance-Season_Summer         3960 non-null   bool   \n",
      " 53  Fitness_Endurance-Season_Winter         3960 non-null   bool   \n",
      " 54  Fitness_Endurance-Time_Mins             3960 non-null   float64\n",
      " 55  Fitness_Endurance-Time_Sec              3960 non-null   float64\n",
      " 56  PAQ_A-PAQ_A_Total                       3960 non-null   float64\n",
      " 57  PAQ_A-Season_Fall                       3960 non-null   bool   \n",
      " 58  PAQ_A-Season_Spring                     3960 non-null   bool   \n",
      " 59  PAQ_A-Season_Summer                     3960 non-null   bool   \n",
      " 60  PAQ_A-Season_Winter                     3960 non-null   bool   \n",
      " 61  PAQ_C-PAQ_C_Total                       3960 non-null   float64\n",
      " 62  PAQ_C-Season_Fall                       3960 non-null   bool   \n",
      " 63  PAQ_C-Season_Spring                     3960 non-null   bool   \n",
      " 64  PAQ_C-Season_Summer                     3960 non-null   bool   \n",
      " 65  PAQ_C-Season_Winter                     3960 non-null   bool   \n",
      " 66  Physical-BMI                            3960 non-null   float64\n",
      " 67  Physical-Diastolic_BP                   3960 non-null   float64\n",
      " 68  Physical-HeartRate                      3960 non-null   float64\n",
      " 69  Physical-Height                         3960 non-null   float64\n",
      " 70  Physical-Season_Fall                    3960 non-null   bool   \n",
      " 71  Physical-Season_Spring                  3960 non-null   bool   \n",
      " 72  Physical-Season_Summer                  3960 non-null   bool   \n",
      " 73  Physical-Season_Winter                  3960 non-null   bool   \n",
      " 74  Physical-Systolic_BP                    3960 non-null   float64\n",
      " 75  Physical-Waist_Circumference            3960 non-null   float64\n",
      " 76  Physical-Weight                         3960 non-null   float64\n",
      " 77  PreInt_EduHx-Season_Fall                3960 non-null   bool   \n",
      " 78  PreInt_EduHx-Season_Spring              3960 non-null   bool   \n",
      " 79  PreInt_EduHx-Season_Summer              3960 non-null   bool   \n",
      " 80  PreInt_EduHx-Season_Winter              3960 non-null   bool   \n",
      " 81  PreInt_EduHx-computerinternet_hoursday  3960 non-null   float64\n",
      " 82  SDS-SDS_Total_Raw                       3960 non-null   float64\n",
      " 83  SDS-SDS_Total_T                         3960 non-null   float64\n",
      " 84  SDS-Season_Fall                         3960 non-null   bool   \n",
      " 85  SDS-Season_Spring                       3960 non-null   bool   \n",
      " 86  SDS-Season_Summer                       3960 non-null   bool   \n",
      " 87  SDS-Season_Winter                       3960 non-null   bool   \n",
      " 88  sii                                     3960 non-null   float64\n",
      "dtypes: bool(40), float64(47), int64(2)\n",
      "memory usage: 1.6 MB\n",
      "None\n",
      "<class 'pandas.core.frame.DataFrame'>\n",
      "RangeIndex: 20 entries, 0 to 19\n",
      "Data columns (total 89 columns):\n",
      " #   Column                                  Non-Null Count  Dtype  \n",
      "---  ------                                  --------------  -----  \n",
      " 0   BIA-BIA_Activity_Level_num              20 non-null     float64\n",
      " 1   BIA-BIA_BMC                             20 non-null     float64\n",
      " 2   BIA-BIA_BMI                             20 non-null     float64\n",
      " 3   BIA-BIA_BMR                             20 non-null     float64\n",
      " 4   BIA-BIA_DEE                             20 non-null     float64\n",
      " 5   BIA-BIA_ECW                             20 non-null     float64\n",
      " 6   BIA-BIA_FFM                             20 non-null     float64\n",
      " 7   BIA-BIA_FFMI                            20 non-null     float64\n",
      " 8   BIA-BIA_FMI                             20 non-null     float64\n",
      " 9   BIA-BIA_Fat                             20 non-null     float64\n",
      " 10  BIA-BIA_Frame_num                       20 non-null     float64\n",
      " 11  BIA-BIA_ICW                             20 non-null     float64\n",
      " 12  BIA-BIA_LDM                             20 non-null     float64\n",
      " 13  BIA-BIA_LST                             20 non-null     float64\n",
      " 14  BIA-BIA_SMM                             20 non-null     float64\n",
      " 15  BIA-BIA_TBW                             20 non-null     float64\n",
      " 16  BIA-Season_Fall                         20 non-null     bool   \n",
      " 17  BIA-Season_Spring                       20 non-null     float64\n",
      " 18  BIA-Season_Summer                       20 non-null     bool   \n",
      " 19  BIA-Season_Winter                       20 non-null     bool   \n",
      " 20  Basic_Demos-Age                         20 non-null     int64  \n",
      " 21  Basic_Demos-Enroll_Season_Fall          20 non-null     bool   \n",
      " 22  Basic_Demos-Enroll_Season_Spring        20 non-null     bool   \n",
      " 23  Basic_Demos-Enroll_Season_Summer        20 non-null     bool   \n",
      " 24  Basic_Demos-Enroll_Season_Winter        20 non-null     bool   \n",
      " 25  Basic_Demos-Sex                         20 non-null     int64  \n",
      " 26  CGAS-CGAS_Score                         20 non-null     float64\n",
      " 27  CGAS-Season_Fall                        20 non-null     bool   \n",
      " 28  CGAS-Season_Spring                      20 non-null     bool   \n",
      " 29  CGAS-Season_Summer                      20 non-null     bool   \n",
      " 30  CGAS-Season_Winter                      20 non-null     bool   \n",
      " 31  FGC-FGC_CU                              20 non-null     float64\n",
      " 32  FGC-FGC_CU_Zone                         20 non-null     float64\n",
      " 33  FGC-FGC_GSD                             20 non-null     float64\n",
      " 34  FGC-FGC_GSD_Zone                        20 non-null     float64\n",
      " 35  FGC-FGC_GSND                            20 non-null     float64\n",
      " 36  FGC-FGC_GSND_Zone                       20 non-null     float64\n",
      " 37  FGC-FGC_PU                              20 non-null     float64\n",
      " 38  FGC-FGC_PU_Zone                         20 non-null     float64\n",
      " 39  FGC-FGC_SRL                             20 non-null     float64\n",
      " 40  FGC-FGC_SRL_Zone                        20 non-null     float64\n",
      " 41  FGC-FGC_SRR                             20 non-null     float64\n",
      " 42  FGC-FGC_SRR_Zone                        20 non-null     float64\n",
      " 43  FGC-FGC_TL                              20 non-null     float64\n",
      " 44  FGC-FGC_TL_Zone                         20 non-null     float64\n",
      " 45  FGC-Season_Fall                         20 non-null     bool   \n",
      " 46  FGC-Season_Spring                       20 non-null     bool   \n",
      " 47  FGC-Season_Summer                       20 non-null     bool   \n",
      " 48  FGC-Season_Winter                       20 non-null     bool   \n",
      " 49  Fitness_Endurance-Max_Stage             20 non-null     float64\n",
      " 50  Fitness_Endurance-Season_Fall           20 non-null     bool   \n",
      " 51  Fitness_Endurance-Season_Spring         20 non-null     bool   \n",
      " 52  Fitness_Endurance-Season_Summer         20 non-null     bool   \n",
      " 53  Fitness_Endurance-Season_Winter         20 non-null     float64\n",
      " 54  Fitness_Endurance-Time_Mins             20 non-null     float64\n",
      " 55  Fitness_Endurance-Time_Sec              20 non-null     float64\n",
      " 56  PAQ_A-PAQ_A_Total                       20 non-null     float64\n",
      " 57  PAQ_A-Season_Fall                       20 non-null     float64\n",
      " 58  PAQ_A-Season_Spring                     20 non-null     float64\n",
      " 59  PAQ_A-Season_Summer                     20 non-null     bool   \n",
      " 60  PAQ_A-Season_Winter                     20 non-null     float64\n",
      " 61  PAQ_C-PAQ_C_Total                       20 non-null     float64\n",
      " 62  PAQ_C-Season_Fall                       20 non-null     bool   \n",
      " 63  PAQ_C-Season_Spring                     20 non-null     bool   \n",
      " 64  PAQ_C-Season_Summer                     20 non-null     bool   \n",
      " 65  PAQ_C-Season_Winter                     20 non-null     bool   \n",
      " 66  Physical-BMI                            20 non-null     float64\n",
      " 67  Physical-Diastolic_BP                   20 non-null     float64\n",
      " 68  Physical-HeartRate                      20 non-null     float64\n",
      " 69  Physical-Height                         20 non-null     float64\n",
      " 70  Physical-Season_Fall                    20 non-null     bool   \n",
      " 71  Physical-Season_Spring                  20 non-null     bool   \n",
      " 72  Physical-Season_Summer                  20 non-null     bool   \n",
      " 73  Physical-Season_Winter                  20 non-null     bool   \n",
      " 74  Physical-Systolic_BP                    20 non-null     float64\n",
      " 75  Physical-Waist_Circumference            20 non-null     float64\n",
      " 76  Physical-Weight                         20 non-null     float64\n",
      " 77  PreInt_EduHx-Season_Fall                20 non-null     bool   \n",
      " 78  PreInt_EduHx-Season_Spring              20 non-null     bool   \n",
      " 79  PreInt_EduHx-Season_Summer              20 non-null     bool   \n",
      " 80  PreInt_EduHx-Season_Winter              20 non-null     bool   \n",
      " 81  PreInt_EduHx-computerinternet_hoursday  20 non-null     float64\n",
      " 82  SDS-SDS_Total_Raw                       20 non-null     float64\n",
      " 83  SDS-SDS_Total_T                         20 non-null     float64\n",
      " 84  SDS-Season_Fall                         20 non-null     bool   \n",
      " 85  SDS-Season_Spring                       20 non-null     bool   \n",
      " 86  SDS-Season_Summer                       20 non-null     bool   \n",
      " 87  SDS-Season_Winter                       20 non-null     bool   \n",
      " 88  sii                                     20 non-null     float64\n",
      "dtypes: bool(35), float64(52), int64(2)\n",
      "memory usage: 9.2 KB\n",
      "None\n",
      "Index([], dtype='object')\n"
     ]
    }
   ],
   "source": [
    "print(train_data.shape)\n",
    "print(test_data.shape)\n",
    "\n",
    "print(train_data.info())\n",
    "print(test_data.info())\n",
    "\n",
    "difference = (train_data.columns.difference(test_data.columns))\n",
    "print(difference)\n",
    "\n",
    "test_data = test_data.drop(columns=['sii'])  "
   ]
  },
  {
   "cell_type": "code",
   "execution_count": 8,
   "id": "6a768625",
   "metadata": {
    "execution": {
     "iopub.execute_input": "2024-11-28T21:52:40.300657Z",
     "iopub.status.busy": "2024-11-28T21:52:40.300313Z",
     "iopub.status.idle": "2024-11-28T21:52:41.322451Z",
     "shell.execute_reply": "2024-11-28T21:52:41.321336Z"
    },
    "papermill": {
     "duration": 1.028789,
     "end_time": "2024-11-28T21:52:41.324531",
     "exception": false,
     "start_time": "2024-11-28T21:52:40.295742",
     "status": "completed"
    },
    "tags": []
   },
   "outputs": [
    {
     "name": "stdout",
     "output_type": "stream",
     "text": [
      "Testing data: Model accuracy score with 100 decision-trees : 74.4949\n",
      "Training data: Model accuracy score with 100 decision-trees : 100.0000\n"
     ]
    }
   ],
   "source": [
    "from sklearn.model_selection import train_test_split\n",
    "from sklearn.preprocessing import MinMaxScaler\n",
    "from sklearn.ensemble import RandomForestClassifier\n",
    "from sklearn.metrics import accuracy_score, classification_report\n",
    "\n",
    "X = train_data.drop(columns=['sii'])  \n",
    "y = train_data['sii']  \n",
    "\n",
    "#Scaling the training data. \n",
    "scaler = MinMaxScaler()\n",
    "X = scaler.fit_transform(X)\n",
    "\n",
    "#Splitting the training and testing data\n",
    "X_train, X_test, y_train, y_test = train_test_split(X, y, test_size=0.1, random_state=42)\n",
    "\n",
    "RFC = RandomForestClassifier(n_estimators=100, random_state=42)\n",
    "RFC.fit(X_train, y_train)\n",
    "\n",
    "y_pred_test = RFC.predict(X_test)\n",
    "y_pred_train = RFC.predict(X_train)\n",
    "\n",
    "print('Testing data: Model accuracy score with 100 decision-trees : {0:0.4f}'.format(accuracy_score(y_test, y_pred_test)*100))\n",
    "print('Training data: Model accuracy score with 100 decision-trees : {0:0.4f}'.format(accuracy_score(y_train, y_pred_train)*100))"
   ]
  },
  {
   "cell_type": "code",
   "execution_count": 9,
   "id": "31b41405",
   "metadata": {
    "execution": {
     "iopub.execute_input": "2024-11-28T21:52:41.333726Z",
     "iopub.status.busy": "2024-11-28T21:52:41.333296Z",
     "iopub.status.idle": "2024-11-28T21:52:41.708316Z",
     "shell.execute_reply": "2024-11-28T21:52:41.705745Z"
    },
    "papermill": {
     "duration": 0.384032,
     "end_time": "2024-11-28T21:52:41.712357",
     "exception": false,
     "start_time": "2024-11-28T21:52:41.328325",
     "status": "completed"
    },
    "tags": []
   },
   "outputs": [
    {
     "name": "stdout",
     "output_type": "stream",
     "text": [
      "Testing data accuracy: 72.4747\n",
      "Training data accuracy: 100.0000\n"
     ]
    },
    {
     "name": "stderr",
     "output_type": "stream",
     "text": [
      "/opt/conda/lib/python3.10/site-packages/sklearn/linear_model/_logistic.py:458: ConvergenceWarning: lbfgs failed to converge (status=1):\n",
      "STOP: TOTAL NO. of ITERATIONS REACHED LIMIT.\n",
      "\n",
      "Increase the number of iterations (max_iter) or scale the data as shown in:\n",
      "    https://scikit-learn.org/stable/modules/preprocessing.html\n",
      "Please also refer to the documentation for alternative solver options:\n",
      "    https://scikit-learn.org/stable/modules/linear_model.html#logistic-regression\n",
      "  n_iter_i = _check_optimize_result(\n"
     ]
    }
   ],
   "source": [
    "# Now Logistic \n",
    "from sklearn.linear_model import LogisticRegression\n",
    "\n",
    "X = train_data.drop(columns=['sii'])  \n",
    "y = train_data['sii']  \n",
    "\n",
    "scaler = MinMaxScaler()\n",
    "X = scaler.fit_transform(X)\n",
    "\n",
    "X_train, X_test, y_train, y_test = train_test_split(X, y, test_size=0.1, random_state=42)\n",
    "\n",
    "LR = LogisticRegression()\n",
    "\n",
    "LR.fit(X_train, y_train)\n",
    "\n",
    "y_pred_test = LR.predict(X_test)\n",
    "y_pred_train = RFC.predict(X_train)\n",
    "\n",
    "print('Testing data accuracy: {0:0.4f}'.format(accuracy_score(y_test, y_pred_test)*100))\n",
    "print('Training data accuracy: {0:0.4f}'.format(accuracy_score(y_train, y_pred_train)*100))"
   ]
  },
  {
   "cell_type": "code",
   "execution_count": 10,
   "id": "a11eebb2",
   "metadata": {
    "execution": {
     "iopub.execute_input": "2024-11-28T21:52:41.722803Z",
     "iopub.status.busy": "2024-11-28T21:52:41.722399Z",
     "iopub.status.idle": "2024-11-28T21:52:41.726338Z",
     "shell.execute_reply": "2024-11-28T21:52:41.725436Z"
    },
    "papermill": {
     "duration": 0.010709,
     "end_time": "2024-11-28T21:52:41.728346",
     "exception": false,
     "start_time": "2024-11-28T21:52:41.717637",
     "status": "completed"
    },
    "tags": []
   },
   "outputs": [],
   "source": [
    "# # RF on test data \n",
    "# X = test_data  \n",
    "# X = scaler.fit_transform(X)\n",
    "# y_pred = RFC.predict(X)\n",
    "\n",
    "# submission = pd.DataFrame({\n",
    "#    'id': ids,  \n",
    "#    'sii': y_pred.astype(int) \n",
    "# })\n",
    "# print(submission)"
   ]
  },
  {
   "cell_type": "code",
   "execution_count": 11,
   "id": "9549a828",
   "metadata": {
    "execution": {
     "iopub.execute_input": "2024-11-28T21:52:41.738002Z",
     "iopub.status.busy": "2024-11-28T21:52:41.737230Z",
     "iopub.status.idle": "2024-11-28T21:52:41.753538Z",
     "shell.execute_reply": "2024-11-28T21:52:41.752513Z"
    },
    "papermill": {
     "duration": 0.023146,
     "end_time": "2024-11-28T21:52:41.755409",
     "exception": false,
     "start_time": "2024-11-28T21:52:41.732263",
     "status": "completed"
    },
    "tags": []
   },
   "outputs": [
    {
     "name": "stdout",
     "output_type": "stream",
     "text": [
      "          id  sii\n",
      "0   00008ff9    0\n",
      "1   000fd460    0\n",
      "2   00105258    2\n",
      "3   00115b9f    0\n",
      "4   0016bb22    0\n",
      "5   001f3379    0\n",
      "6   0038ba98    2\n",
      "7   0068a485    0\n",
      "8   0069fbed    0\n",
      "9   0083e397    0\n",
      "10  0087dd65    0\n",
      "11  00abe655    2\n",
      "12  00ae59c9    3\n",
      "13  00af6387    0\n",
      "14  00bd4359    0\n",
      "15  00c0cd71    1\n",
      "16  00d56d4b    0\n",
      "17  00d9913d    0\n",
      "18  00e6167c    0\n",
      "19  00ebc35d    0\n"
     ]
    }
   ],
   "source": [
    "# LR Predicting on test data\n",
    "X = test_data  \n",
    "X = scaler.fit_transform(X)\n",
    "y_pred = LR.predict(X)\n",
    "\n",
    "#Creating the submission file\n",
    "submission = pd.DataFrame({\n",
    "    'id': ids,  \n",
    "    'sii': y_pred.astype(int) \n",
    "})\n",
    "print(submission)"
   ]
  },
  {
   "cell_type": "code",
   "execution_count": 12,
   "id": "b411e8e5",
   "metadata": {
    "execution": {
     "iopub.execute_input": "2024-11-28T21:52:41.764751Z",
     "iopub.status.busy": "2024-11-28T21:52:41.764375Z",
     "iopub.status.idle": "2024-11-28T21:52:41.771539Z",
     "shell.execute_reply": "2024-11-28T21:52:41.770826Z"
    },
    "papermill": {
     "duration": 0.01403,
     "end_time": "2024-11-28T21:52:41.773530",
     "exception": false,
     "start_time": "2024-11-28T21:52:41.759500",
     "status": "completed"
    },
    "tags": []
   },
   "outputs": [],
   "source": [
    "submission.to_csv('submission.csv', index=False)"
   ]
  },
  {
   "cell_type": "code",
   "execution_count": null,
   "id": "a4ee1b57",
   "metadata": {
    "papermill": {
     "duration": 0.003573,
     "end_time": "2024-11-28T21:52:41.781034",
     "exception": false,
     "start_time": "2024-11-28T21:52:41.777461",
     "status": "completed"
    },
    "tags": []
   },
   "outputs": [],
   "source": []
  }
 ],
 "metadata": {
  "kaggle": {
   "accelerator": "none",
   "dataSources": [
    {
     "databundleVersionId": 9643020,
     "sourceId": 81933,
     "sourceType": "competition"
    }
   ],
   "dockerImageVersionId": 30786,
   "isGpuEnabled": false,
   "isInternetEnabled": false,
   "language": "python",
   "sourceType": "notebook"
  },
  "kernelspec": {
   "display_name": "Python 3",
   "language": "python",
   "name": "python3"
  },
  "language_info": {
   "codemirror_mode": {
    "name": "ipython",
    "version": 3
   },
   "file_extension": ".py",
   "mimetype": "text/x-python",
   "name": "python",
   "nbconvert_exporter": "python",
   "pygments_lexer": "ipython3",
   "version": "3.10.14"
  },
  "papermill": {
   "default_parameters": {},
   "duration": 8.042017,
   "end_time": "2024-11-28T21:52:42.405035",
   "environment_variables": {},
   "exception": null,
   "input_path": "__notebook__.ipynb",
   "output_path": "__notebook__.ipynb",
   "parameters": {},
   "start_time": "2024-11-28T21:52:34.363018",
   "version": "2.6.0"
  }
 },
 "nbformat": 4,
 "nbformat_minor": 5
}
