{
 "cells": [
  {
   "cell_type": "markdown",
   "id": "fa257c1d",
   "metadata": {
    "papermill": {
     "duration": 0.004889,
     "end_time": "2024-12-02T00:14:35.867164",
     "exception": false,
     "start_time": "2024-12-02T00:14:35.862275",
     "status": "completed"
    },
    "tags": []
   },
   "source": [
    "# Loading The Data Sets"
   ]
  },
  {
   "cell_type": "code",
   "execution_count": 1,
   "id": "0b016cd7",
   "metadata": {
    "_cell_guid": "b1076dfc-b9ad-4769-8c92-a6c4dae69d19",
    "_uuid": "8f2839f25d086af736a60e9eeb907d3b93b6e0e5",
    "execution": {
     "iopub.execute_input": "2024-12-02T00:14:35.877031Z",
     "iopub.status.busy": "2024-12-02T00:14:35.876617Z",
     "iopub.status.idle": "2024-12-02T00:14:39.262829Z",
     "shell.execute_reply": "2024-12-02T00:14:39.261551Z"
    },
    "papermill": {
     "duration": 3.393641,
     "end_time": "2024-12-02T00:14:39.265283",
     "exception": false,
     "start_time": "2024-12-02T00:14:35.871642",
     "status": "completed"
    },
    "tags": []
   },
   "outputs": [
    {
     "name": "stdout",
     "output_type": "stream",
     "text": [
      "Index(['sii'], dtype='object')\n",
      "(3960, 60)\n",
      "(20, 59)\n"
     ]
    }
   ],
   "source": [
    "import numpy as np \n",
    "\n",
    "import pandas as pd \n",
    "\n",
    "import os\n",
    "\n",
    "import matplotlib.pyplot as plt\n",
    "\n",
    "from sklearn.impute import SimpleImputer\n",
    "\n",
    "\n",
    "#Loading the train and test data sets\n",
    "\n",
    "test_data = pd.read_csv('/kaggle/input/child-mind-institute-problematic-internet-use/test.csv')\n",
    "\n",
    "column_names = list(test_data.columns)\n",
    "\n",
    "train_data = pd.read_csv('/kaggle/input/child-mind-institute-problematic-internet-use/train.csv')\n",
    "\n",
    "target = train_data['sii']\n",
    "\n",
    "train_data = pd.DataFrame(train_data, columns = column_names)\n",
    "\n",
    "train_data['sii'] = target\n",
    "\n",
    "print(train_data.columns.difference(test_data.columns))\n",
    "\n",
    "print(train_data.shape)\n",
    "\n",
    "print(test_data.shape)\n"
   ]
  },
  {
   "cell_type": "markdown",
   "id": "e4c9021a",
   "metadata": {
    "papermill": {
     "duration": 0.002911,
     "end_time": "2024-12-02T00:14:39.271652",
     "exception": false,
     "start_time": "2024-12-02T00:14:39.268741",
     "status": "completed"
    },
    "tags": []
   },
   "source": [
    "# Data Preprocessing "
   ]
  },
  {
   "cell_type": "code",
   "execution_count": 2,
   "id": "3d19aba4",
   "metadata": {
    "execution": {
     "iopub.execute_input": "2024-12-02T00:14:39.279479Z",
     "iopub.status.busy": "2024-12-02T00:14:39.279087Z",
     "iopub.status.idle": "2024-12-02T00:14:39.358100Z",
     "shell.execute_reply": "2024-12-02T00:14:39.356846Z"
    },
    "papermill": {
     "duration": 0.086199,
     "end_time": "2024-12-02T00:14:39.361016",
     "exception": false,
     "start_time": "2024-12-02T00:14:39.274817",
     "status": "completed"
    },
    "tags": []
   },
   "outputs": [
    {
     "name": "stdout",
     "output_type": "stream",
     "text": [
      "(3960, 89)\n",
      "(20, 89)\n",
      "<class 'pandas.core.frame.DataFrame'>\n",
      "RangeIndex: 3960 entries, 0 to 3959\n",
      "Data columns (total 89 columns):\n",
      " #   Column                                  Non-Null Count  Dtype  \n",
      "---  ------                                  --------------  -----  \n",
      " 0   BIA-BIA_Activity_Level_num              3960 non-null   float64\n",
      " 1   BIA-BIA_BMC                             3960 non-null   float64\n",
      " 2   BIA-BIA_BMI                             3960 non-null   float64\n",
      " 3   BIA-BIA_BMR                             3960 non-null   float64\n",
      " 4   BIA-BIA_DEE                             3960 non-null   float64\n",
      " 5   BIA-BIA_ECW                             3960 non-null   float64\n",
      " 6   BIA-BIA_FFM                             3960 non-null   float64\n",
      " 7   BIA-BIA_FFMI                            3960 non-null   float64\n",
      " 8   BIA-BIA_FMI                             3960 non-null   float64\n",
      " 9   BIA-BIA_Fat                             3960 non-null   float64\n",
      " 10  BIA-BIA_Frame_num                       3960 non-null   float64\n",
      " 11  BIA-BIA_ICW                             3960 non-null   float64\n",
      " 12  BIA-BIA_LDM                             3960 non-null   float64\n",
      " 13  BIA-BIA_LST                             3960 non-null   float64\n",
      " 14  BIA-BIA_SMM                             3960 non-null   float64\n",
      " 15  BIA-BIA_TBW                             3960 non-null   float64\n",
      " 16  BIA-Season_Fall                         3960 non-null   bool   \n",
      " 17  BIA-Season_Spring                       3960 non-null   bool   \n",
      " 18  BIA-Season_Summer                       3960 non-null   bool   \n",
      " 19  BIA-Season_Winter                       3960 non-null   bool   \n",
      " 20  Basic_Demos-Age                         3960 non-null   int64  \n",
      " 21  Basic_Demos-Enroll_Season_Fall          3960 non-null   bool   \n",
      " 22  Basic_Demos-Enroll_Season_Spring        3960 non-null   bool   \n",
      " 23  Basic_Demos-Enroll_Season_Summer        3960 non-null   bool   \n",
      " 24  Basic_Demos-Enroll_Season_Winter        3960 non-null   bool   \n",
      " 25  Basic_Demos-Sex                         3960 non-null   int64  \n",
      " 26  CGAS-CGAS_Score                         3960 non-null   float64\n",
      " 27  CGAS-Season_Fall                        3960 non-null   bool   \n",
      " 28  CGAS-Season_Spring                      3960 non-null   bool   \n",
      " 29  CGAS-Season_Summer                      3960 non-null   bool   \n",
      " 30  CGAS-Season_Winter                      3960 non-null   bool   \n",
      " 31  FGC-FGC_CU                              3960 non-null   float64\n",
      " 32  FGC-FGC_CU_Zone                         3960 non-null   float64\n",
      " 33  FGC-FGC_GSD                             3960 non-null   float64\n",
      " 34  FGC-FGC_GSD_Zone                        3960 non-null   float64\n",
      " 35  FGC-FGC_GSND                            3960 non-null   float64\n",
      " 36  FGC-FGC_GSND_Zone                       3960 non-null   float64\n",
      " 37  FGC-FGC_PU                              3960 non-null   float64\n",
      " 38  FGC-FGC_PU_Zone                         3960 non-null   float64\n",
      " 39  FGC-FGC_SRL                             3960 non-null   float64\n",
      " 40  FGC-FGC_SRL_Zone                        3960 non-null   float64\n",
      " 41  FGC-FGC_SRR                             3960 non-null   float64\n",
      " 42  FGC-FGC_SRR_Zone                        3960 non-null   float64\n",
      " 43  FGC-FGC_TL                              3960 non-null   float64\n",
      " 44  FGC-FGC_TL_Zone                         3960 non-null   float64\n",
      " 45  FGC-Season_Fall                         3960 non-null   bool   \n",
      " 46  FGC-Season_Spring                       3960 non-null   bool   \n",
      " 47  FGC-Season_Summer                       3960 non-null   bool   \n",
      " 48  FGC-Season_Winter                       3960 non-null   bool   \n",
      " 49  Fitness_Endurance-Max_Stage             3960 non-null   float64\n",
      " 50  Fitness_Endurance-Season_Fall           3960 non-null   bool   \n",
      " 51  Fitness_Endurance-Season_Spring         3960 non-null   bool   \n",
      " 52  Fitness_Endurance-Season_Summer         3960 non-null   bool   \n",
      " 53  Fitness_Endurance-Season_Winter         3960 non-null   bool   \n",
      " 54  Fitness_Endurance-Time_Mins             3960 non-null   float64\n",
      " 55  Fitness_Endurance-Time_Sec              3960 non-null   float64\n",
      " 56  PAQ_A-PAQ_A_Total                       3960 non-null   float64\n",
      " 57  PAQ_A-Season_Fall                       3960 non-null   bool   \n",
      " 58  PAQ_A-Season_Spring                     3960 non-null   bool   \n",
      " 59  PAQ_A-Season_Summer                     3960 non-null   bool   \n",
      " 60  PAQ_A-Season_Winter                     3960 non-null   bool   \n",
      " 61  PAQ_C-PAQ_C_Total                       3960 non-null   float64\n",
      " 62  PAQ_C-Season_Fall                       3960 non-null   bool   \n",
      " 63  PAQ_C-Season_Spring                     3960 non-null   bool   \n",
      " 64  PAQ_C-Season_Summer                     3960 non-null   bool   \n",
      " 65  PAQ_C-Season_Winter                     3960 non-null   bool   \n",
      " 66  Physical-BMI                            3960 non-null   float64\n",
      " 67  Physical-Diastolic_BP                   3960 non-null   float64\n",
      " 68  Physical-HeartRate                      3960 non-null   float64\n",
      " 69  Physical-Height                         3960 non-null   float64\n",
      " 70  Physical-Season_Fall                    3960 non-null   bool   \n",
      " 71  Physical-Season_Spring                  3960 non-null   bool   \n",
      " 72  Physical-Season_Summer                  3960 non-null   bool   \n",
      " 73  Physical-Season_Winter                  3960 non-null   bool   \n",
      " 74  Physical-Systolic_BP                    3960 non-null   float64\n",
      " 75  Physical-Waist_Circumference            3960 non-null   float64\n",
      " 76  Physical-Weight                         3960 non-null   float64\n",
      " 77  PreInt_EduHx-Season_Fall                3960 non-null   bool   \n",
      " 78  PreInt_EduHx-Season_Spring              3960 non-null   bool   \n",
      " 79  PreInt_EduHx-Season_Summer              3960 non-null   bool   \n",
      " 80  PreInt_EduHx-Season_Winter              3960 non-null   bool   \n",
      " 81  PreInt_EduHx-computerinternet_hoursday  3960 non-null   float64\n",
      " 82  SDS-SDS_Total_Raw                       3960 non-null   float64\n",
      " 83  SDS-SDS_Total_T                         3960 non-null   float64\n",
      " 84  SDS-Season_Fall                         3960 non-null   bool   \n",
      " 85  SDS-Season_Spring                       3960 non-null   bool   \n",
      " 86  SDS-Season_Summer                       3960 non-null   bool   \n",
      " 87  SDS-Season_Winter                       3960 non-null   bool   \n",
      " 88  sii                                     3960 non-null   float64\n",
      "dtypes: bool(40), float64(47), int64(2)\n",
      "memory usage: 1.6 MB\n",
      "None\n",
      "<class 'pandas.core.frame.DataFrame'>\n",
      "RangeIndex: 20 entries, 0 to 19\n",
      "Data columns (total 89 columns):\n",
      " #   Column                                  Non-Null Count  Dtype  \n",
      "---  ------                                  --------------  -----  \n",
      " 0   BIA-BIA_Activity_Level_num              20 non-null     float64\n",
      " 1   BIA-BIA_BMC                             20 non-null     float64\n",
      " 2   BIA-BIA_BMI                             20 non-null     float64\n",
      " 3   BIA-BIA_BMR                             20 non-null     float64\n",
      " 4   BIA-BIA_DEE                             20 non-null     float64\n",
      " 5   BIA-BIA_ECW                             20 non-null     float64\n",
      " 6   BIA-BIA_FFM                             20 non-null     float64\n",
      " 7   BIA-BIA_FFMI                            20 non-null     float64\n",
      " 8   BIA-BIA_FMI                             20 non-null     float64\n",
      " 9   BIA-BIA_Fat                             20 non-null     float64\n",
      " 10  BIA-BIA_Frame_num                       20 non-null     float64\n",
      " 11  BIA-BIA_ICW                             20 non-null     float64\n",
      " 12  BIA-BIA_LDM                             20 non-null     float64\n",
      " 13  BIA-BIA_LST                             20 non-null     float64\n",
      " 14  BIA-BIA_SMM                             20 non-null     float64\n",
      " 15  BIA-BIA_TBW                             20 non-null     float64\n",
      " 16  BIA-Season_Fall                         20 non-null     bool   \n",
      " 17  BIA-Season_Spring                       20 non-null     float64\n",
      " 18  BIA-Season_Summer                       20 non-null     bool   \n",
      " 19  BIA-Season_Winter                       20 non-null     bool   \n",
      " 20  Basic_Demos-Age                         20 non-null     int64  \n",
      " 21  Basic_Demos-Enroll_Season_Fall          20 non-null     bool   \n",
      " 22  Basic_Demos-Enroll_Season_Spring        20 non-null     bool   \n",
      " 23  Basic_Demos-Enroll_Season_Summer        20 non-null     bool   \n",
      " 24  Basic_Demos-Enroll_Season_Winter        20 non-null     bool   \n",
      " 25  Basic_Demos-Sex                         20 non-null     int64  \n",
      " 26  CGAS-CGAS_Score                         20 non-null     float64\n",
      " 27  CGAS-Season_Fall                        20 non-null     bool   \n",
      " 28  CGAS-Season_Spring                      20 non-null     bool   \n",
      " 29  CGAS-Season_Summer                      20 non-null     bool   \n",
      " 30  CGAS-Season_Winter                      20 non-null     bool   \n",
      " 31  FGC-FGC_CU                              20 non-null     float64\n",
      " 32  FGC-FGC_CU_Zone                         20 non-null     float64\n",
      " 33  FGC-FGC_GSD                             20 non-null     float64\n",
      " 34  FGC-FGC_GSD_Zone                        20 non-null     float64\n",
      " 35  FGC-FGC_GSND                            20 non-null     float64\n",
      " 36  FGC-FGC_GSND_Zone                       20 non-null     float64\n",
      " 37  FGC-FGC_PU                              20 non-null     float64\n",
      " 38  FGC-FGC_PU_Zone                         20 non-null     float64\n",
      " 39  FGC-FGC_SRL                             20 non-null     float64\n",
      " 40  FGC-FGC_SRL_Zone                        20 non-null     float64\n",
      " 41  FGC-FGC_SRR                             20 non-null     float64\n",
      " 42  FGC-FGC_SRR_Zone                        20 non-null     float64\n",
      " 43  FGC-FGC_TL                              20 non-null     float64\n",
      " 44  FGC-FGC_TL_Zone                         20 non-null     float64\n",
      " 45  FGC-Season_Fall                         20 non-null     bool   \n",
      " 46  FGC-Season_Spring                       20 non-null     bool   \n",
      " 47  FGC-Season_Summer                       20 non-null     bool   \n",
      " 48  FGC-Season_Winter                       20 non-null     bool   \n",
      " 49  Fitness_Endurance-Max_Stage             20 non-null     float64\n",
      " 50  Fitness_Endurance-Season_Fall           20 non-null     bool   \n",
      " 51  Fitness_Endurance-Season_Spring         20 non-null     bool   \n",
      " 52  Fitness_Endurance-Season_Summer         20 non-null     bool   \n",
      " 53  Fitness_Endurance-Season_Winter         20 non-null     float64\n",
      " 54  Fitness_Endurance-Time_Mins             20 non-null     float64\n",
      " 55  Fitness_Endurance-Time_Sec              20 non-null     float64\n",
      " 56  PAQ_A-PAQ_A_Total                       20 non-null     float64\n",
      " 57  PAQ_A-Season_Fall                       20 non-null     float64\n",
      " 58  PAQ_A-Season_Spring                     20 non-null     float64\n",
      " 59  PAQ_A-Season_Summer                     20 non-null     bool   \n",
      " 60  PAQ_A-Season_Winter                     20 non-null     float64\n",
      " 61  PAQ_C-PAQ_C_Total                       20 non-null     float64\n",
      " 62  PAQ_C-Season_Fall                       20 non-null     bool   \n",
      " 63  PAQ_C-Season_Spring                     20 non-null     bool   \n",
      " 64  PAQ_C-Season_Summer                     20 non-null     bool   \n",
      " 65  PAQ_C-Season_Winter                     20 non-null     bool   \n",
      " 66  Physical-BMI                            20 non-null     float64\n",
      " 67  Physical-Diastolic_BP                   20 non-null     float64\n",
      " 68  Physical-HeartRate                      20 non-null     float64\n",
      " 69  Physical-Height                         20 non-null     float64\n",
      " 70  Physical-Season_Fall                    20 non-null     bool   \n",
      " 71  Physical-Season_Spring                  20 non-null     bool   \n",
      " 72  Physical-Season_Summer                  20 non-null     bool   \n",
      " 73  Physical-Season_Winter                  20 non-null     bool   \n",
      " 74  Physical-Systolic_BP                    20 non-null     float64\n",
      " 75  Physical-Waist_Circumference            20 non-null     float64\n",
      " 76  Physical-Weight                         20 non-null     float64\n",
      " 77  PreInt_EduHx-Season_Fall                20 non-null     bool   \n",
      " 78  PreInt_EduHx-Season_Spring              20 non-null     bool   \n",
      " 79  PreInt_EduHx-Season_Summer              20 non-null     bool   \n",
      " 80  PreInt_EduHx-Season_Winter              20 non-null     bool   \n",
      " 81  PreInt_EduHx-computerinternet_hoursday  20 non-null     float64\n",
      " 82  SDS-SDS_Total_Raw                       20 non-null     float64\n",
      " 83  SDS-SDS_Total_T                         20 non-null     float64\n",
      " 84  SDS-Season_Fall                         20 non-null     bool   \n",
      " 85  SDS-Season_Spring                       20 non-null     bool   \n",
      " 86  SDS-Season_Summer                       20 non-null     bool   \n",
      " 87  SDS-Season_Winter                       20 non-null     bool   \n",
      " 88  sii                                     20 non-null     float64\n",
      "dtypes: bool(35), float64(52), int64(2)\n",
      "memory usage: 9.2 KB\n",
      "None\n",
      "Index([], dtype='object')\n"
     ]
    }
   ],
   "source": [
    "#Dropping ID columns.\n",
    "\n",
    "ids = test_data['id']\n",
    "train_data = train_data.drop('id', axis=1)\n",
    "\n",
    "test_data = test_data.drop('id', axis=1)\n",
    "\n",
    "#one hot encoding on the categorical data. \n",
    "\n",
    "train_data = pd.get_dummies(train_data)\n",
    "\n",
    "test_data = pd.get_dummies(test_data)\n",
    "\n",
    "train_data, test_data = train_data.align(test_data, join='outer', axis = 1)\n",
    "\n",
    "train_data.fillna(value=0, inplace=True)\n",
    "\n",
    "test_data.fillna(value=0, inplace=True)\n",
    "\n",
    "#Imputing missing data with SimpleImputer\n",
    "\n",
    "print(train_data.shape)\n",
    "\n",
    "print(test_data.shape)\n",
    "\n",
    "print(train_data.info())\n",
    "\n",
    "print(test_data.info())\n",
    "\n",
    "difference = (train_data.columns.difference(test_data.columns))\n",
    "\n",
    "print(difference)\n",
    "\n",
    "test_data = test_data.drop(columns=['sii'])  \n"
   ]
  },
  {
   "cell_type": "markdown",
   "id": "20c00fc3",
   "metadata": {
    "papermill": {
     "duration": 0.003311,
     "end_time": "2024-12-02T00:14:39.368058",
     "exception": false,
     "start_time": "2024-12-02T00:14:39.364747",
     "status": "completed"
    },
    "tags": []
   },
   "source": [
    "# Random Forest Model Predictions"
   ]
  },
  {
   "cell_type": "code",
   "execution_count": 3,
   "id": "9d8e60d5",
   "metadata": {
    "execution": {
     "iopub.execute_input": "2024-12-02T00:14:39.377374Z",
     "iopub.status.busy": "2024-12-02T00:14:39.376467Z",
     "iopub.status.idle": "2024-12-02T00:14:40.576148Z",
     "shell.execute_reply": "2024-12-02T00:14:40.575108Z"
    },
    "papermill": {
     "duration": 1.206818,
     "end_time": "2024-12-02T00:14:40.578321",
     "exception": false,
     "start_time": "2024-12-02T00:14:39.371503",
     "status": "completed"
    },
    "tags": []
   },
   "outputs": [
    {
     "name": "stdout",
     "output_type": "stream",
     "text": [
      "Testing data: Model accuracy score with 100 decision-trees : 74.4949\n",
      "Training data: Model accuracy score with 100 decision-trees : 100.0000\n"
     ]
    }
   ],
   "source": [
    "from sklearn.model_selection import train_test_split\n",
    "\n",
    "from sklearn.preprocessing import MinMaxScaler\n",
    "\n",
    "from sklearn.ensemble import RandomForestClassifier\n",
    "\n",
    "from sklearn.metrics import accuracy_score, classification_report\n",
    "\n",
    "\n",
    "X = train_data.drop(columns=['sii'])  \n",
    "\n",
    "y = train_data['sii']  \n",
    "\n",
    "\n",
    "#Scaling the training data. \n",
    "\n",
    "scaler = MinMaxScaler()\n",
    "\n",
    "X = scaler.fit_transform(X)\n",
    "\n",
    "\n",
    "#Splitting the training and testing data\n",
    "\n",
    "X_train, X_test, y_train, y_test = train_test_split(X, y, test_size=0.1, random_state=42)\n",
    "\n",
    "#Initiating the random forrest model \n",
    "\n",
    "RFC = RandomForestClassifier(n_estimators=100, random_state=42)\n",
    "\n",
    "#Fit the model\n",
    "\n",
    "RFC.fit(X_train, y_train)\n",
    "\n",
    "#Predicting test set results\n",
    "\n",
    "y_pred_test = RFC.predict(X_test)\n",
    "\n",
    "y_pred_train = RFC.predict(X_train)\n",
    "\n",
    "print('Testing data: Model accuracy score with 100 decision-trees : {0:0.4f}'.format(accuracy_score(y_test, y_pred_test)*100))\n",
    "\n",
    "print('Training data: Model accuracy score with 100 decision-trees : {0:0.4f}'.format(accuracy_score(y_train, y_pred_train)*100))\n"
   ]
  },
  {
   "cell_type": "markdown",
   "id": "554f14cc",
   "metadata": {
    "papermill": {
     "duration": 0.0033,
     "end_time": "2024-12-02T00:14:40.585222",
     "exception": false,
     "start_time": "2024-12-02T00:14:40.581922",
     "status": "completed"
    },
    "tags": []
   },
   "source": [
    "# Logistic Regression Model Predictions"
   ]
  },
  {
   "cell_type": "code",
   "execution_count": 4,
   "id": "71176023",
   "metadata": {
    "execution": {
     "iopub.execute_input": "2024-12-02T00:14:40.594024Z",
     "iopub.status.busy": "2024-12-02T00:14:40.593578Z",
     "iopub.status.idle": "2024-12-02T00:14:40.916598Z",
     "shell.execute_reply": "2024-12-02T00:14:40.915552Z"
    },
    "papermill": {
     "duration": 0.334224,
     "end_time": "2024-12-02T00:14:40.923010",
     "exception": false,
     "start_time": "2024-12-02T00:14:40.588786",
     "status": "completed"
    },
    "tags": []
   },
   "outputs": [
    {
     "name": "stdout",
     "output_type": "stream",
     "text": [
      "Testing data accuracy: 72.4747\n",
      "Training data accuracy: 100.0000\n"
     ]
    },
    {
     "name": "stderr",
     "output_type": "stream",
     "text": [
      "/opt/conda/lib/python3.10/site-packages/sklearn/linear_model/_logistic.py:458: ConvergenceWarning: lbfgs failed to converge (status=1):\n",
      "STOP: TOTAL NO. of ITERATIONS REACHED LIMIT.\n",
      "\n",
      "Increase the number of iterations (max_iter) or scale the data as shown in:\n",
      "    https://scikit-learn.org/stable/modules/preprocessing.html\n",
      "Please also refer to the documentation for alternative solver options:\n",
      "    https://scikit-learn.org/stable/modules/linear_model.html#logistic-regression\n",
      "  n_iter_i = _check_optimize_result(\n"
     ]
    }
   ],
   "source": [
    "from sklearn.linear_model import LogisticRegression\n",
    "\n",
    "\n",
    "\n",
    "X = train_data.drop(columns=['sii'])  \n",
    "\n",
    "y = train_data['sii']  \n",
    "\n",
    "\n",
    "\n",
    "scaler = MinMaxScaler()\n",
    "\n",
    "X = scaler.fit_transform(X)\n",
    "\n",
    "\n",
    "\n",
    "X_train, X_test, y_train, y_test = train_test_split(X, y, test_size=0.1, random_state=42)\n",
    "\n",
    "\n",
    "\n",
    "LR = LogisticRegression()\n",
    "\n",
    "\n",
    "\n",
    "LR.fit(X_train, y_train)\n",
    "\n",
    "\n",
    "\n",
    "y_pred_test = LR.predict(X_test)\n",
    "\n",
    "y_pred_train = RFC.predict(X_train)\n",
    "\n",
    "\n",
    "\n",
    "print('Testing data accuracy: {0:0.4f}'.format(accuracy_score(y_test, y_pred_test)*100))\n",
    "\n",
    "print('Training data accuracy: {0:0.4f}'.format(accuracy_score(y_train, y_pred_train)*100))"
   ]
  },
  {
   "cell_type": "markdown",
   "id": "1353cd60",
   "metadata": {
    "papermill": {
     "duration": 0.005711,
     "end_time": "2024-12-02T00:14:40.938313",
     "exception": false,
     "start_time": "2024-12-02T00:14:40.932602",
     "status": "completed"
    },
    "tags": []
   },
   "source": [
    "# Random Forest Predictions On Test Set"
   ]
  },
  {
   "cell_type": "code",
   "execution_count": 5,
   "id": "3c133799",
   "metadata": {
    "execution": {
     "iopub.execute_input": "2024-12-02T00:14:40.947640Z",
     "iopub.status.busy": "2024-12-02T00:14:40.947224Z",
     "iopub.status.idle": "2024-12-02T00:14:40.952110Z",
     "shell.execute_reply": "2024-12-02T00:14:40.950823Z"
    },
    "papermill": {
     "duration": 0.01226,
     "end_time": "2024-12-02T00:14:40.954422",
     "exception": false,
     "start_time": "2024-12-02T00:14:40.942162",
     "status": "completed"
    },
    "tags": []
   },
   "outputs": [],
   "source": [
    "#X = test_data  \n",
    "\n",
    "#X = scaler.fit_transform(X)\n",
    "\n",
    "#y_pred = RFC.predict(X)\n",
    "\n",
    "# Predict on test data\n",
    "\n",
    "#submission = pd.DataFrame({\n",
    "\n",
    " #   'id': ids,  \n",
    "\n",
    " #   'sii': y_pred.astype(int) \n",
    "\n",
    "#})\n",
    "\n",
    "#print(submission)"
   ]
  },
  {
   "cell_type": "markdown",
   "id": "14ae8efd",
   "metadata": {
    "papermill": {
     "duration": 0.004006,
     "end_time": "2024-12-02T00:14:40.962701",
     "exception": false,
     "start_time": "2024-12-02T00:14:40.958695",
     "status": "completed"
    },
    "tags": []
   },
   "source": [
    "# Logistic Regression Predictions On Test Set "
   ]
  },
  {
   "cell_type": "code",
   "execution_count": 6,
   "id": "5f2fd582",
   "metadata": {
    "execution": {
     "iopub.execute_input": "2024-12-02T00:14:40.972126Z",
     "iopub.status.busy": "2024-12-02T00:14:40.971736Z",
     "iopub.status.idle": "2024-12-02T00:14:40.992884Z",
     "shell.execute_reply": "2024-12-02T00:14:40.991659Z"
    },
    "papermill": {
     "duration": 0.028634,
     "end_time": "2024-12-02T00:14:40.995243",
     "exception": false,
     "start_time": "2024-12-02T00:14:40.966609",
     "status": "completed"
    },
    "tags": []
   },
   "outputs": [
    {
     "name": "stdout",
     "output_type": "stream",
     "text": [
      "          id  sii\n",
      "0   00008ff9    0\n",
      "1   000fd460    0\n",
      "2   00105258    2\n",
      "3   00115b9f    0\n",
      "4   0016bb22    0\n",
      "5   001f3379    0\n",
      "6   0038ba98    2\n",
      "7   0068a485    0\n",
      "8   0069fbed    0\n",
      "9   0083e397    0\n",
      "10  0087dd65    0\n",
      "11  00abe655    2\n",
      "12  00ae59c9    3\n",
      "13  00af6387    0\n",
      "14  00bd4359    0\n",
      "15  00c0cd71    1\n",
      "16  00d56d4b    0\n",
      "17  00d9913d    0\n",
      "18  00e6167c    0\n",
      "19  00ebc35d    0\n"
     ]
    }
   ],
   "source": [
    "#Predicting on test data\n",
    "\n",
    "X = test_data  \n",
    "\n",
    "X = scaler.fit_transform(X)\n",
    "\n",
    "y_pred = LR.predict(X)\n",
    "\n",
    "\n",
    "\n",
    "#Creating the submission file\n",
    "\n",
    "submission = pd.DataFrame({\n",
    "\n",
    "    'id': ids,  \n",
    "\n",
    "    'sii': y_pred.astype(int) \n",
    "\n",
    "})\n",
    "\n",
    "submission.to_csv('submission.csv', index=False)\n",
    "\n",
    "print(submission)"
   ]
  },
  {
   "cell_type": "markdown",
   "id": "4d9e32db",
   "metadata": {
    "papermill": {
     "duration": 0.003614,
     "end_time": "2024-12-02T00:14:41.002767",
     "exception": false,
     "start_time": "2024-12-02T00:14:40.999153",
     "status": "completed"
    },
    "tags": []
   },
   "source": [
    "\n",
    "\n",
    "\n",
    "\n",
    "\n",
    "\n",
    "\n",
    "\n",
    "\n",
    "\n",
    "\n",
    "\n",
    "\n",
    "\n"
   ]
  },
  {
   "cell_type": "code",
   "execution_count": null,
   "id": "6fffa600",
   "metadata": {
    "papermill": {
     "duration": 0.003562,
     "end_time": "2024-12-02T00:14:41.010357",
     "exception": false,
     "start_time": "2024-12-02T00:14:41.006795",
     "status": "completed"
    },
    "tags": []
   },
   "outputs": [],
   "source": []
  }
 ],
 "metadata": {
  "kaggle": {
   "accelerator": "none",
   "dataSources": [
    {
     "databundleVersionId": 9643020,
     "sourceId": 81933,
     "sourceType": "competition"
    }
   ],
   "dockerImageVersionId": 30786,
   "isGpuEnabled": false,
   "isInternetEnabled": true,
   "language": "python",
   "sourceType": "notebook"
  },
  "kernelspec": {
   "display_name": "Python 3",
   "language": "python",
   "name": "python3"
  },
  "language_info": {
   "codemirror_mode": {
    "name": "ipython",
    "version": 3
   },
   "file_extension": ".py",
   "mimetype": "text/x-python",
   "name": "python",
   "nbconvert_exporter": "python",
   "pygments_lexer": "ipython3",
   "version": "3.10.14"
  },
  "papermill": {
   "default_parameters": {},
   "duration": 8.822756,
   "end_time": "2024-12-02T00:14:41.736525",
   "environment_variables": {},
   "exception": null,
   "input_path": "__notebook__.ipynb",
   "output_path": "__notebook__.ipynb",
   "parameters": {},
   "start_time": "2024-12-02T00:14:32.913769",
   "version": "2.6.0"
  }
 },
 "nbformat": 4,
 "nbformat_minor": 5
}
