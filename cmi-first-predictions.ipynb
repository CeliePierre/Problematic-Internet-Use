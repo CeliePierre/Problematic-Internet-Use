{
 "cells": [
  {
   "cell_type": "markdown",
   "id": "b898921a",
   "metadata": {
    "papermill": {
     "duration": 0.003992,
     "end_time": "2024-12-02T05:25:50.795310",
     "exception": false,
     "start_time": "2024-12-02T05:25:50.791318",
     "status": "completed"
    },
    "tags": []
   },
   "source": [
    "# Loading The Data Sets\n"
   ]
  },
  {
   "cell_type": "code",
   "execution_count": 17,
   "id": "189a5ab2",
   "metadata": {
    "_cell_guid": "b1076dfc-b9ad-4769-8c92-a6c4dae69d19",
    "_uuid": "8f2839f25d086af736a60e9eeb907d3b93b6e0e5",
    "execution": {
     "iopub.execute_input": "2024-12-02T05:25:50.804049Z",
     "iopub.status.busy": "2024-12-02T05:25:50.803381Z",
     "iopub.status.idle": "2024-12-02T05:25:54.646694Z",
     "shell.execute_reply": "2024-12-02T05:25:54.645209Z"
    },
    "papermill": {
     "duration": 3.850311,
     "end_time": "2024-12-02T05:25:54.649084",
     "exception": false,
     "start_time": "2024-12-02T05:25:50.798773",
     "status": "completed"
    },
    "tags": []
   },
   "outputs": [],
   "source": [
    "# Import libraries\n",
    "import numpy as np\n",
    "import pandas as pd\n",
    "import os\n",
    "import seaborn as sns\n",
    "import matplotlib.pyplot as plt\n",
    "from sklearn.impute import SimpleImputer\n",
    "from concurrent.futures import ThreadPoolExecutor\n",
    "from tqdm import tqdm"
   ]
  },
  {
   "cell_type": "code",
   "execution_count": 19,
   "id": "414d7c21",
   "metadata": {},
   "outputs": [],
   "source": [
    "# Cite: https://www.kaggle.com/code/cchangyyy/0-490-notebook\n",
    "\n",
    "\n",
    "# Processes a parquet file\n",
    "def process_file(filename, dirname):\n",
    "    df = pd.read_parquet(os.path.join(dirname, filename, \"part-0.parquet\"))\n",
    "    df.drop(\"step\", axis=1, inplace=True)\n",
    "    return df.describe().values.reshape(-1), filename.split(\"=\")[1]\n",
    "\n",
    "\n",
    "def load_time_series(dirname) -> pd.DataFrame:\n",
    "    ids = os.listdir(dirname)\n",
    "    with ThreadPoolExecutor() as executor:\n",
    "        results = list(\n",
    "            tqdm(\n",
    "                executor.map(lambda fname: process_file(fname, dirname), ids),\n",
    "                total=len(ids),\n",
    "            )\n",
    "        )\n",
    "    stats, indexes = zip(*results)\n",
    "    df = pd.DataFrame(stats, columns=[f\"stat_{i}\" for i in range(len(stats[0]))])\n",
    "    df[\"id\"] = indexes\n",
    "    return df"
   ]
  },
  {
   "cell_type": "code",
   "execution_count": 20,
   "id": "ed06733d",
   "metadata": {},
   "outputs": [
    {
     "name": "stderr",
     "output_type": "stream",
     "text": [
      "100%|██████████| 996/996 [00:29<00:00, 34.20it/s]\n",
      "100%|██████████| 2/2 [00:00<00:00, 18.35it/s]"
     ]
    },
    {
     "name": "stdout",
     "output_type": "stream",
     "text": [
      "Index(['sii'], dtype='object')\n",
      "(3960, 60)\n",
      "(20, 59)\n"
     ]
    },
    {
     "name": "stderr",
     "output_type": "stream",
     "text": [
      "\n"
     ]
    }
   ],
   "source": [
    "# Loading the train and test data sets\n",
    "# Aligning train dataset columns to match test dataset\n",
    "# Checking for column differences between train and test datasets\n",
    "\n",
    "# CP: Running locally\n",
    "if os.path.exists(\"kaggle_data\"):\n",
    "    train_data = pd.read_csv(\"kaggle_data/train.csv\")\n",
    "    test_data = pd.read_csv(\"kaggle_data/test.csv\")\n",
    "    train_ts = load_time_series(\"kaggle_data/series_train.parquet\")\n",
    "    test_ts = load_time_series(\"kaggle_data/series_test.parquet\")\n",
    "\n",
    "# CP: Running in Kaggle\n",
    "else:\n",
    "    train_data = pd.read_csv(\n",
    "        \"/kaggle/input/child-mind-institute-problematic-internet-use/train.csv\"\n",
    "    )\n",
    "    test_data = pd.read_csv(\n",
    "        \"/kaggle/input/child-mind-institute-problematic-internet-use/test.csv\"\n",
    "    )\n",
    "    train_ts = load_time_series(\n",
    "        \"/kaggle/input/child-mind-institute-problematic-internet-use/series_train.parquet\"\n",
    "    )\n",
    "    test_ts = load_time_series(\n",
    "        \"/kaggle/input/child-mind-institute-problematic-internet-use/series_test.parquet\"\n",
    "    )\n",
    "\n",
    "\n",
    "column_names = list(test_data.columns)\n",
    "target = train_data[\"sii\"]\n",
    "train_data = pd.DataFrame(train_data, columns=column_names)\n",
    "train_data[\"sii\"] = target\n",
    "print(train_data.columns.difference(test_data.columns))\n",
    "print(train_data.shape)\n",
    "print(test_data.shape)"
   ]
  },
  {
   "cell_type": "code",
   "execution_count": 21,
   "id": "8f8ea324",
   "metadata": {},
   "outputs": [],
   "source": [
    "# Cite: https://www.kaggle.com/code/cchangyyy/0-490-notebook\n",
    "\n",
    "time_series_cols = train_ts.columns.tolist()\n",
    "time_series_cols.remove(\"id\")\n",
    "train_data = pd.merge(train_data, train_ts, how=\"left\", on=\"id\")\n",
    "test_data = pd.merge(test_data, test_ts, how=\"left\", on=\"id\")\n",
    "train_data = train_data.drop(\"id\", axis=1)"
   ]
  },
  {
   "cell_type": "code",
   "execution_count": null,
   "id": "55960f07",
   "metadata": {},
   "outputs": [],
   "source": [
    "# # Make a copy (comment on/off)\n",
    "# train_data_copy = train_data.copy()\n",
    "# test_data_copy = test_data.copy()"
   ]
  },
  {
   "cell_type": "markdown",
   "id": "232a52ac",
   "metadata": {
    "papermill": {
     "duration": 0.003381,
     "end_time": "2024-12-02T05:25:54.655910",
     "exception": false,
     "start_time": "2024-12-02T05:25:54.652529",
     "status": "completed"
    },
    "tags": []
   },
   "source": [
    "# Data Preprocessing\n"
   ]
  },
  {
   "cell_type": "code",
   "execution_count": 24,
   "id": "7313849c",
   "metadata": {
    "execution": {
     "iopub.execute_input": "2024-12-02T05:25:54.664733Z",
     "iopub.status.busy": "2024-12-02T05:25:54.664291Z",
     "iopub.status.idle": "2024-12-02T05:25:54.745601Z",
     "shell.execute_reply": "2024-12-02T05:25:54.744226Z"
    },
    "papermill": {
     "duration": 0.089378,
     "end_time": "2024-12-02T05:25:54.748791",
     "exception": false,
     "start_time": "2024-12-02T05:25:54.659413",
     "status": "completed"
    },
    "tags": []
   },
   "outputs": [
    {
     "name": "stdout",
     "output_type": "stream",
     "text": [
      "Train data shape: (3960, 185)\n",
      "Test data shape: (20, 185)\n",
      "\n",
      "Train data info:\n",
      "<class 'pandas.core.frame.DataFrame'>\n",
      "RangeIndex: 3960 entries, 0 to 3959\n",
      "Columns: 185 entries, BIA-BIA_Activity_Level_num to stat_95\n",
      "dtypes: bool(40), float64(143), int64(2)\n",
      "memory usage: 4.5 MB\n",
      "None\n",
      "\n",
      "Test data info:\n",
      "<class 'pandas.core.frame.DataFrame'>\n",
      "RangeIndex: 20 entries, 0 to 19\n",
      "Columns: 185 entries, BIA-BIA_Activity_Level_num to stat_95\n",
      "dtypes: bool(35), float64(148), int64(2)\n",
      "memory usage: 24.2 KB\n",
      "None\n",
      "No column differences between train and test datasets.\n",
      "\n",
      "Final train columns: Index(['BIA-BIA_Activity_Level_num', 'BIA-BIA_BMC', 'BIA-BIA_BMI',\n",
      "       'BIA-BIA_BMR', 'BIA-BIA_DEE', 'BIA-BIA_ECW', 'BIA-BIA_FFM',\n",
      "       'BIA-BIA_FFMI', 'BIA-BIA_FMI', 'BIA-BIA_Fat',\n",
      "       ...\n",
      "       'stat_87', 'stat_88', 'stat_89', 'stat_9', 'stat_90', 'stat_91',\n",
      "       'stat_92', 'stat_93', 'stat_94', 'stat_95'],\n",
      "      dtype='object', length=185)\n",
      "\n",
      "Final test columns: Index(['BIA-BIA_Activity_Level_num', 'BIA-BIA_BMC', 'BIA-BIA_BMI',\n",
      "       'BIA-BIA_BMR', 'BIA-BIA_DEE', 'BIA-BIA_ECW', 'BIA-BIA_FFM',\n",
      "       'BIA-BIA_FFMI', 'BIA-BIA_FMI', 'BIA-BIA_Fat',\n",
      "       ...\n",
      "       'stat_87', 'stat_88', 'stat_89', 'stat_9', 'stat_90', 'stat_91',\n",
      "       'stat_92', 'stat_93', 'stat_94', 'stat_95'],\n",
      "      dtype='object', length=184)\n"
     ]
    }
   ],
   "source": [
    "# Dropping the 'id' column from both train and test datasets\n",
    "ids = test_data[\"id\"]\n",
    "# train_data = train_data.drop(\"id\", axis=1)\n",
    "test_data = test_data.drop(\"id\", axis=1)\n",
    "\n",
    "# Apply one-hot encoding to categorical columns\n",
    "train_data = pd.get_dummies(train_data)\n",
    "test_data = pd.get_dummies(test_data)\n",
    "\n",
    "# Align train and test datasets to ensure they have the same columns\n",
    "# Missing columns will be added with NaN values\n",
    "train_data, test_data = train_data.align(test_data, join=\"outer\", axis=1)\n",
    "\n",
    "# Fill missing values with 0 (useful for alignment step)\n",
    "train_data.fillna(value=0, inplace=True)\n",
    "test_data.fillna(value=0, inplace=True)\n",
    "\n",
    "# Print the shapes of the datasets to verify alignment\n",
    "print(f\"Train data shape: {train_data.shape}\")\n",
    "print(f\"Test data shape: {test_data.shape}\")\n",
    "\n",
    "# Display dataset info to inspect column data types and memory usage\n",
    "print(\"\\nTrain data info:\")\n",
    "print(train_data.info())\n",
    "print(\"\\nTest data info:\")\n",
    "print(test_data.info())\n",
    "\n",
    "# Check for any column differences\n",
    "difference = train_data.columns.difference(test_data.columns)\n",
    "if difference.empty:\n",
    "    print(\"No column differences between train and test datasets.\")\n",
    "else:\n",
    "    print(\"Column differences found:\", difference)\n",
    "\n",
    "# Remove target column 'sii' from test dataset, as it's not available for predictions\n",
    "test_data = test_data.drop(columns=[\"sii\"], errors=\"ignore\")\n",
    "\n",
    "# Display final column details\n",
    "print(\"\\nFinal train columns:\", train_data.columns)\n",
    "print(\"\\nFinal test columns:\", test_data.columns)"
   ]
  },
  {
   "cell_type": "markdown",
   "id": "0a4e2427",
   "metadata": {
    "papermill": {
     "duration": 0.003368,
     "end_time": "2024-12-02T05:25:54.756009",
     "exception": false,
     "start_time": "2024-12-02T05:25:54.752641",
     "status": "completed"
    },
    "tags": []
   },
   "source": [
    "# Random Forest Model Predictions\n"
   ]
  },
  {
   "cell_type": "code",
   "execution_count": 26,
   "id": "59df1c75",
   "metadata": {
    "execution": {
     "iopub.execute_input": "2024-12-02T05:25:54.765787Z",
     "iopub.status.busy": "2024-12-02T05:25:54.765381Z",
     "iopub.status.idle": "2024-12-02T05:26:21.506116Z",
     "shell.execute_reply": "2024-12-02T05:26:21.504877Z"
    },
    "papermill": {
     "duration": 26.748825,
     "end_time": "2024-12-02T05:26:21.508660",
     "exception": false,
     "start_time": "2024-12-02T05:25:54.759835",
     "status": "completed"
    },
    "tags": []
   },
   "outputs": [
    {
     "name": "stdout",
     "output_type": "stream",
     "text": [
      "Testing data: Model accuracy score : 84.9291\n",
      "Training data: Model accuracy score : 91.0588\n",
      "\n",
      "Classification Report for Testing Data:\n",
      "              precision    recall  f1-score   support\n",
      "\n",
      "         0.0       0.87      0.84      0.85       276\n",
      "         1.0       0.77      0.71      0.74       283\n",
      "         2.0       0.78      0.84      0.81       280\n",
      "         3.0       0.97      1.00      0.98       289\n",
      "\n",
      "    accuracy                           0.85      1128\n",
      "   macro avg       0.85      0.85      0.85      1128\n",
      "weighted avg       0.85      0.85      0.85      1128\n",
      "\n",
      "\n",
      "Cross-validation Accuracy Scores: [0.79201774 0.84700665 0.84960071 0.86779059 0.84738243]\n",
      "Mean CV Accuracy: 0.8408\n",
      "\n",
      "Top Features by Importance:\n",
      "                                   Feature  Importance\n",
      "81  PreInt_EduHx-computerinternet_hoursday    0.064223\n",
      "82                       SDS-SDS_Total_Raw    0.051227\n",
      "83                         SDS-SDS_Total_T    0.051067\n",
      "20                         Basic_Demos-Age    0.044727\n",
      "76                         Physical-Weight    0.044417\n",
      "69                         Physical-Height    0.034130\n",
      "26                         CGAS-CGAS_Score    0.032957\n",
      "66                            Physical-BMI    0.024574\n",
      "14                             BIA-BIA_SMM    0.018008\n",
      "13                             BIA-BIA_LST    0.015816\n"
     ]
    }
   ],
   "source": [
    "from sklearn.model_selection import train_test_split, cross_val_score\n",
    "from sklearn.preprocessing import MinMaxScaler\n",
    "from sklearn.ensemble import RandomForestClassifier\n",
    "from sklearn.metrics import accuracy_score, classification_report\n",
    "from imblearn.over_sampling import SMOTE\n",
    "import numpy as np\n",
    "import pandas as pd\n",
    "\n",
    "# Prepare features and target\n",
    "X = train_data.drop(columns=[\"sii\"])\n",
    "y = train_data[\"sii\"]\n",
    "\n",
    "# Scale features\n",
    "scaler = MinMaxScaler()\n",
    "X = scaler.fit_transform(X)\n",
    "\n",
    "# Apply SMOTE for class imbalance\n",
    "smote = SMOTE(random_state=42)\n",
    "X_resampled, y_resampled = smote.fit_resample(X, y)\n",
    "\n",
    "# Split data into train and test sets\n",
    "X_train, X_test, y_train, y_test = train_test_split(\n",
    "    X_resampled, y_resampled, test_size=0.1, random_state=42\n",
    ")\n",
    "\n",
    "# Initialize Random Forest with adjusted parameters\n",
    "RFC = RandomForestClassifier(\n",
    "    n_estimators=150,  # Reduced number of trees for faster evaluation\n",
    "    max_depth=10,  # Lower depth for simpler trees\n",
    "    min_samples_split=10,  # Increase minimum samples required to split\n",
    "    min_samples_leaf=5,  # Require more samples in leaf nodes\n",
    "    class_weight=\"balanced\",  # Emphasize minority classes\n",
    "    random_state=42,\n",
    ")\n",
    "\n",
    "# Fit the model\n",
    "RFC.fit(X_train, y_train)\n",
    "\n",
    "# Predict on train and test data\n",
    "y_pred_test = RFC.predict(X_test)\n",
    "y_pred_train = RFC.predict(X_train)\n",
    "\n",
    "# Evaluate model\n",
    "print(\n",
    "    \"Testing data: Model accuracy score : {0:0.4f}\".format(\n",
    "        accuracy_score(y_test, y_pred_test) * 100\n",
    "    )\n",
    ")\n",
    "print(\n",
    "    \"Training data: Model accuracy score : {0:0.4f}\".format(\n",
    "        accuracy_score(y_train, y_pred_train) * 100\n",
    "    )\n",
    ")\n",
    "\n",
    "# Classification report for detailed metrics\n",
    "print(\"\\nClassification Report for Testing Data:\")\n",
    "print(classification_report(y_test, y_pred_test))\n",
    "\n",
    "# Cross-validation scores for model stability\n",
    "cv_scores = cross_val_score(RFC, X_resampled, y_resampled, cv=5, scoring=\"accuracy\")\n",
    "print(\"\\nCross-validation Accuracy Scores:\", cv_scores)\n",
    "print(\"Mean CV Accuracy: {0:0.4f}\".format(np.mean(cv_scores)))\n",
    "\n",
    "# Feature Importance\n",
    "feature_importances = pd.DataFrame(\n",
    "    {\n",
    "        \"Feature\": train_data.drop(columns=[\"sii\"]).columns,\n",
    "        \"Importance\": RFC.feature_importances_,\n",
    "    }\n",
    ").sort_values(by=\"Importance\", ascending=False)\n",
    "\n",
    "print(\"\\nTop Features by Importance:\")\n",
    "print(feature_importances.head(10))"
   ]
  },
  {
   "cell_type": "markdown",
   "id": "57326b64",
   "metadata": {
    "papermill": {
     "duration": 0.003465,
     "end_time": "2024-12-02T05:26:21.516179",
     "exception": false,
     "start_time": "2024-12-02T05:26:21.512714",
     "status": "completed"
    },
    "tags": []
   },
   "source": [
    "# Logistic Regression Model Predictions\n"
   ]
  },
  {
   "cell_type": "code",
   "execution_count": 27,
   "id": "42619131",
   "metadata": {
    "execution": {
     "iopub.execute_input": "2024-12-02T05:26:21.525561Z",
     "iopub.status.busy": "2024-12-02T05:26:21.525000Z",
     "iopub.status.idle": "2024-12-02T05:26:21.958030Z",
     "shell.execute_reply": "2024-12-02T05:26:21.956573Z"
    },
    "papermill": {
     "duration": 0.440776,
     "end_time": "2024-12-02T05:26:21.960711",
     "exception": false,
     "start_time": "2024-12-02T05:26:21.519935",
     "status": "completed"
    },
    "tags": []
   },
   "outputs": [
    {
     "name": "stdout",
     "output_type": "stream",
     "text": [
      "Testing data accuracy: 72.2222\n",
      "Training data accuracy: 83.0808\n"
     ]
    }
   ],
   "source": [
    "from sklearn.linear_model import LogisticRegression\n",
    "\n",
    "X = train_data.drop(columns=[\"sii\"])\n",
    "y = train_data[\"sii\"]\n",
    "\n",
    "scaler = MinMaxScaler()\n",
    "X = scaler.fit_transform(X)\n",
    "\n",
    "X_train, X_test, y_train, y_test = train_test_split(\n",
    "    X, y, test_size=0.1, random_state=42\n",
    ")\n",
    "\n",
    "LR = LogisticRegression()\n",
    "LR.fit(X_train, y_train)\n",
    "\n",
    "y_pred_test = LR.predict(X_test)\n",
    "y_pred_train = RFC.predict(X_train)\n",
    "\n",
    "print(\n",
    "    \"Testing data accuracy: {0:0.4f}\".format(accuracy_score(y_test, y_pred_test) * 100)\n",
    ")\n",
    "print(\n",
    "    \"Training data accuracy: {0:0.4f}\".format(\n",
    "        accuracy_score(y_train, y_pred_train) * 100\n",
    "    )\n",
    ")"
   ]
  },
  {
   "cell_type": "markdown",
   "id": "c473f071",
   "metadata": {
    "papermill": {
     "duration": 0.004004,
     "end_time": "2024-12-02T05:26:21.968878",
     "exception": false,
     "start_time": "2024-12-02T05:26:21.964874",
     "status": "completed"
    },
    "tags": []
   },
   "source": [
    "# Random Forest Predictions On Test Set\n"
   ]
  },
  {
   "cell_type": "code",
   "execution_count": 28,
   "id": "eda56d33",
   "metadata": {
    "execution": {
     "iopub.execute_input": "2024-12-02T05:26:21.979291Z",
     "iopub.status.busy": "2024-12-02T05:26:21.978925Z",
     "iopub.status.idle": "2024-12-02T05:26:22.009391Z",
     "shell.execute_reply": "2024-12-02T05:26:22.007953Z"
    },
    "papermill": {
     "duration": 0.038694,
     "end_time": "2024-12-02T05:26:22.011867",
     "exception": false,
     "start_time": "2024-12-02T05:26:21.973173",
     "status": "completed"
    },
    "tags": []
   },
   "outputs": [
    {
     "name": "stdout",
     "output_type": "stream",
     "text": [
      "          id  sii\n",
      "0   00008ff9    0\n",
      "1   000fd460    0\n",
      "2   00105258    1\n",
      "3   00115b9f    1\n",
      "4   0016bb22    0\n",
      "5   001f3379    0\n",
      "6   0038ba98    2\n",
      "7   0068a485    0\n",
      "8   0069fbed    0\n",
      "9   0083e397    0\n",
      "10  0087dd65    0\n",
      "11  00abe655    0\n",
      "12  00ae59c9    2\n",
      "13  00af6387    0\n",
      "14  00bd4359    0\n",
      "15  00c0cd71    2\n",
      "16  00d56d4b    0\n",
      "17  00d9913d    0\n",
      "18  00e6167c    2\n",
      "19  00ebc35d    0\n",
      "Submission file created.\n"
     ]
    }
   ],
   "source": [
    "X = test_data\n",
    "X = scaler.fit_transform(X)\n",
    "y_pred = RFC.predict(X)\n",
    "\n",
    "submission = pd.DataFrame({\"id\": ids, \"sii\": y_pred.astype(int)})\n",
    "print(submission)\n",
    "\n",
    "submission.to_csv(\"submission.csv\", index=False)\n",
    "print(\"Submission file created.\")"
   ]
  },
  {
   "cell_type": "markdown",
   "id": "363a5c36",
   "metadata": {
    "papermill": {
     "duration": 0.004748,
     "end_time": "2024-12-02T05:26:22.020826",
     "exception": false,
     "start_time": "2024-12-02T05:26:22.016078",
     "status": "completed"
    },
    "tags": []
   },
   "source": [
    "# Logistic Regression Predictions On Test Set\n"
   ]
  },
  {
   "cell_type": "code",
   "execution_count": 29,
   "id": "2876259b",
   "metadata": {
    "execution": {
     "iopub.execute_input": "2024-12-02T05:26:22.030634Z",
     "iopub.status.busy": "2024-12-02T05:26:22.030203Z",
     "iopub.status.idle": "2024-12-02T05:26:22.035179Z",
     "shell.execute_reply": "2024-12-02T05:26:22.034127Z"
    },
    "papermill": {
     "duration": 0.012814,
     "end_time": "2024-12-02T05:26:22.037720",
     "exception": false,
     "start_time": "2024-12-02T05:26:22.024906",
     "status": "completed"
    },
    "tags": []
   },
   "outputs": [],
   "source": [
    "# Predicting on test data\n",
    "# X = test_data\n",
    "# X = scaler.fit_transform(X)\n",
    "# y_pred = LR.predict(X)\n",
    "\n",
    "# submission = pd.DataFrame({\n",
    "#     'id': ids,\n",
    "#     'sii': y_pred.astype(int)\n",
    "# })\n",
    "\n",
    "# #saving to CSV\n",
    "# submission.to_csv('submission.csv', index=False)\n",
    "# print(submission)"
   ]
  }
 ],
 "metadata": {
  "kaggle": {
   "accelerator": "none",
   "dataSources": [
    {
     "databundleVersionId": 9643020,
     "sourceId": 81933,
     "sourceType": "competition"
    }
   ],
   "dockerImageVersionId": 30786,
   "isGpuEnabled": false,
   "isInternetEnabled": false,
   "language": "python",
   "sourceType": "notebook"
  },
  "kernelspec": {
   "display_name": "base",
   "language": "python",
   "name": "python3"
  },
  "language_info": {
   "codemirror_mode": {
    "name": "ipython",
    "version": 3
   },
   "file_extension": ".py",
   "mimetype": "text/x-python",
   "name": "python",
   "nbconvert_exporter": "python",
   "pygments_lexer": "ipython3",
   "version": "3.10.14"
  },
  "papermill": {
   "default_parameters": {},
   "duration": 35.096282,
   "end_time": "2024-12-02T05:26:22.781316",
   "environment_variables": {},
   "exception": null,
   "input_path": "__notebook__.ipynb",
   "output_path": "__notebook__.ipynb",
   "parameters": {},
   "start_time": "2024-12-02T05:25:47.685034",
   "version": "2.6.0"
  }
 },
 "nbformat": 4,
 "nbformat_minor": 5
}
